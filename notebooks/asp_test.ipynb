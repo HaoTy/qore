{
 "metadata": {
  "language_info": {
   "codemirror_mode": {
    "name": "ipython",
    "version": 3
   },
   "file_extension": ".py",
   "mimetype": "text/x-python",
   "name": "python",
   "nbconvert_exporter": "python",
   "pygments_lexer": "ipython3",
   "version": "3.9.1"
  },
  "orig_nbformat": 2,
  "kernelspec": {
   "name": "python3",
   "display_name": "Python 3.9.1 64-bit ('qiskit': conda)",
   "metadata": {
    "interpreter": {
     "hash": "1c98fc4fe92390271d15ae28cc783178c5efb4069f3af669a34a587febea39ec"
    }
   }
  }
 },
 "nbformat": 4,
 "nbformat_minor": 2,
 "cells": [
  {
   "cell_type": "code",
   "execution_count": 1,
   "metadata": {},
   "outputs": [],
   "source": [
    "import numpy as np\n",
    "from qore import Mine, ASP, QAOA, VQE\n",
    "from qore.utils import measure_operator, get_bitstring_probabilities\n",
    "from qore.algorithms.asp import construct_default_H_B\n",
    "from qiskit.aqua import aqua_globals, QuantumInstance\n",
    "from qiskit import Aer"
   ]
  },
  {
   "cell_type": "code",
   "execution_count": 2,
   "metadata": {},
   "outputs": [
    {
     "output_type": "stream",
     "name": "stdout",
     "text": [
      "+---+--------+-------+--------+--------+--------+\n|   |   0    |   1   |   2    |   3    |   4    |\n+---+--------+-------+--------+--------+--------+\n| 0 | -2.000 | 3.000 | -1.000 | -2.000 | -1.000 |\n| 1 |  inf   | 1.000 | -5.000 | 10.000 |  inf   |\n| 2 |  inf   |  inf  | 4.000  |  inf   |  inf   |\n+---+--------+-------+--------+--------+--------+\n"
     ]
    }
   ],
   "source": [
    "penalty = 5.0\n",
    "qmine = Mine(np.array([[-2.0, 3.0, -1.0, -2.0, -1.0], [float('inf'), 1.0, -5.0, 10.0, float('inf')], [float('inf'), float('inf'), 4.0, float('inf'), float('inf')]]))\n",
    "#qmine = Mine('mine_config.txt')\n",
    " \n",
    "qmine.plot_mine()"
   ]
  },
  {
   "cell_type": "code",
   "execution_count": 3,
   "metadata": {},
   "outputs": [],
   "source": [
    "H = qmine.gen_Hamiltonian(penalty=penalty)"
   ]
  },
  {
   "cell_type": "code",
   "execution_count": 4,
   "metadata": {},
   "outputs": [],
   "source": [
    "aqua_globals.random_seed = 1953\n",
    "backend = Aer.get_backend('statevector_simulator')\n",
    "instance = QuantumInstance(backend=backend)"
   ]
  },
  {
   "cell_type": "code",
   "execution_count": 6,
   "metadata": {},
   "outputs": [],
   "source": [
    "def analysis(circuit):\n",
    "    x = get_bitstring_probabilities(circuit, instance, shots=1024)\n",
    "    # x_sorted = sorted(x.items(), key=lambda item: item[1])\n",
    "    # for i in range(5):\n",
    "    #     print(\"The most probable configurations and the corresponding probabilities:\")\n",
    "    #     print(f\"{x_sorted[i][0]}, {x_sorted[i][1]}\")\n",
    "    bitstr, prob = max(x.items(), key=lambda item: item[1])\n",
    "    print(f\"The most probable configuration and the corresponding probability: {bitstr, prob}\")\n",
    "    print(\"------------------------------------------------------------\")\n"
   ]
  },
  {
   "cell_type": "code",
   "execution_count": 7,
   "metadata": {},
   "outputs": [
    {
     "output_type": "stream",
     "name": "stdout",
     "text": [
      "The most probable configuration and the corresponding probability: ('101010100', 0.0068359375)\n",
      "------------------------------------------------------------\n",
      "The most probable configuration and the corresponding probability: ('010011110', 0.220703125)\n",
      "------------------------------------------------------------\n",
      "The most probable configuration and the corresponding probability: ('010011110', 0.94140625)\n",
      "------------------------------------------------------------\n"
     ]
    }
   ],
   "source": [
    "evol_time = 20\n",
    "nsteps = 100\n",
    "\n",
    "circuit = ASP(H, \n",
    "    evol_time=evol_time, \n",
    "    nsteps=nsteps, \n",
    "    callback=analysis,\n",
    "    callback_freq=40,\n",
    "    quantum_instance=instance).construct_circuit()\n",
    "    \n",
    "\n",
    "#analysis(circuit)"
   ]
  },
  {
   "cell_type": "code",
   "execution_count": 8,
   "metadata": {},
   "outputs": [
    {
     "output_type": "stream",
     "name": "stdout",
     "text": [
      "+---+---+---+---+---+---+\n|   | 0 | 1 | 2 | 3 | 4 |\n+---+---+---+---+---+---+\n| 0 | 0 | 1 | 0 | 0 | 1 |\n| 1 | x | 1 | 1 | 1 | x |\n| 2 | x | x | 0 | x | x |\n+---+---+---+---+---+---+\n"
     ]
    }
   ],
   "source": [
    "s = '010011110'\n",
    "qmine.plot_mine_state(s)"
   ]
  },
  {
   "cell_type": "code",
   "execution_count": 9,
   "metadata": {},
   "outputs": [
    {
     "output_type": "stream",
     "name": "stdout",
     "text": [
      "+---+---+---+---+---+---+\n|   | 0 | 1 | 2 | 3 | 4 |\n+---+---+---+---+---+---+\n| 0 | 0 | 1 | 1 | 1 | 1 |\n| 1 | x | 0 | 0 | 1 | x |\n| 2 | x | x | 0 | x | x |\n+---+---+---+---+---+---+\n"
     ]
    }
   ],
   "source": [
    "fs = ''.join(list(s)[::-1])\n",
    "qmine.plot_mine_state(fs)"
   ]
  },
  {
   "cell_type": "code",
   "execution_count": null,
   "metadata": {},
   "outputs": [],
   "source": []
  }
 ]
}