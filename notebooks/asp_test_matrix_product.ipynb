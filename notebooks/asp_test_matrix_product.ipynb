{
 "cells": [
  {
   "cell_type": "code",
   "execution_count": 10,
   "metadata": {},
   "outputs": [],
   "source": [
    "import sys\n",
    "import numpy as np\n",
    "import scipy.linalg as la\n",
    "import scipy.sparse.linalg as spla\n",
    "import matplotlib.pyplot as plt\n",
    "import os\n",
    "import pandas as pd\n",
    "from prettytable import PrettyTable\n",
    "os.environ['KMP_DUPLICATE_LIB_OK'] = 'True'\n",
    "sys.path.append(os.getenv(\"HOME\") + '/repos/pyQSYS/build/qsys')\n",
    "from pyQSYS import *"
   ]
  },
  {
   "cell_type": "code",
   "execution_count": 11,
   "metadata": {},
   "outputs": [],
   "source": [
    "# n = 4\n",
    "# mine_graph = {3: [0, 1, 2], 0: [], 1: [], 2: []}\n",
    "# profit = [-2.0, 3.0, 1.0, 5.0]\n",
    "n = 9\n",
    "mine_graph = {5: [0, 1, 2],\n",
    "             6: [1, 2, 3],\n",
    "             7: [2, 3, 4],\n",
    "             8: [5, 6, 7],\n",
    "             0: [],\n",
    "             1: [],\n",
    "             2: [],\n",
    "             3: [],\n",
    "             4: []}\n",
    "profit = [-2.0, 3.0, -1.0, -2.0, -1.0, 1.0, -5.0, 10.0, 4.0]\n",
    "ncols, nrows = 5, 3\n",
    "cord2idx = {(0, 0): 0,\n",
    " (0, 1): 1,\n",
    " (0, 2): 2,\n",
    " (0, 3): 3,\n",
    " (0, 4): 4,\n",
    " (1, 1): 5,\n",
    " (1, 2): 6,\n",
    " (1, 3): 7,\n",
    " (2, 2): 8}"
   ]
  },
  {
   "cell_type": "code",
   "execution_count": 12,
   "metadata": {},
   "outputs": [],
   "source": [
    "model = SpinHalf(n, 1)\n",
    "statemap = model.createStateMap()\n",
    "dig_state = [\"{0:09b}\".format(x) for x in statemap.states]"
   ]
  },
  {
   "cell_type": "code",
   "execution_count": 13,
   "metadata": {},
   "outputs": [],
   "source": [
    "def H_p(mine_graph, n):\n",
    "    H_op = Operator()\n",
    "    for idx in range(n): \n",
    "        H_op += profit[idx]*(Sz_(model.sites()[idx])-0.5)\n",
    "    return H_op\n",
    "\n",
    "def H_s(mine_graph, n):\n",
    "    H_op = Operator()\n",
    "    for p in mine_graph:\n",
    "        for c in mine_graph[p]:\n",
    "            H_op += (0.5-Sz_(model.sites()[p]))*(0.5+Sz_(model.sites()[c]))\n",
    "    return H_op\n",
    "\n",
    "def H_b(n):\n",
    "    H_op = Operator()\n",
    "    for idx in range(n): \n",
    "        H_op += Sx_(model.sites()[idx])\n",
    "    return 2.0*H_op"
   ]
  },
  {
   "cell_type": "code",
   "execution_count": 14,
   "metadata": {},
   "outputs": [],
   "source": [
    "def plot_mine_state(bitstring):\n",
    "    x = PrettyTable([' ']+[str(ic) for ic in range(ncols)])\n",
    "    for ir in range(nrows):\n",
    "        x.add_row([ir]+[bitstring[cord2idx[(ir, ic)]] if (ir, ic) in cord2idx else 'x'\n",
    "                        for ic in range(ncols)])\n",
    "    print(str(x))"
   ]
  },
  {
   "cell_type": "markdown",
   "metadata": {},
   "source": [
    "## Eigenstate Check "
   ]
  },
  {
   "cell_type": "code",
   "execution_count": 11,
   "metadata": {},
   "outputs": [],
   "source": [
    "lbd = 5.0\n",
    "H_prob = H_p(mine_graph, n) + lbd*H_s(mine_graph, n)"
   ]
  },
  {
   "cell_type": "code",
   "execution_count": 23,
   "metadata": {},
   "outputs": [],
   "source": [
    "# Ham = CSRMatrix('double', H_prob, model, statemap)\n",
    "# eigenvalues, eigenvectors = spla.eigsh(Ham, k=2)\n",
    "Ham = DenseMatrix('double', H_prob, model, statemap)\n",
    "#evals, evecs = la.eigh(Ham)"
   ]
  },
  {
   "cell_type": "code",
   "execution_count": 31,
   "metadata": {},
   "outputs": [
    {
     "data": {
      "text/plain": [
       "'100001101'"
      ]
     },
     "execution_count": 31,
     "metadata": {},
     "output_type": "execute_result"
    }
   ],
   "source": [
    "dig_state[353][::-1]"
   ]
  },
  {
   "cell_type": "markdown",
   "metadata": {},
   "source": [
    "## Energy Gap"
   ]
  },
  {
   "cell_type": "code",
   "execution_count": 15,
   "metadata": {},
   "outputs": [],
   "source": [
    "lbd = 5.0\n",
    "H_prob = H_p(mine_graph, n) + lbd*H_s(mine_graph, n)\n",
    "H_basic = H_b(n)"
   ]
  },
  {
   "cell_type": "code",
   "execution_count": 16,
   "metadata": {},
   "outputs": [],
   "source": [
    "time = np.arange(0, 1.02, 0.02)\n",
    "ground = np.zeros(len(time))\n",
    "first_excite = np.zeros(len(time))"
   ]
  },
  {
   "cell_type": "code",
   "execution_count": 17,
   "metadata": {},
   "outputs": [],
   "source": [
    "for idx in range(len(time)):\n",
    "    t = time[idx]\n",
    "    H = t*H_prob + (1-t)*H_basic\n",
    "    Ham = DenseMatrix('double', H, model, statemap)\n",
    "    evals, evecs = la.eigh(Ham)\n",
    "    \n",
    "    ground[idx] = evals[0]\n",
    "    first_excite[idx] = evals[1]"
   ]
  },
  {
   "cell_type": "code",
   "execution_count": 9,
   "metadata": {},
   "outputs": [
    {
     "data": {
      "image/png": "[encoded data removed]",
      "text/plain": [
       "<Figure size 432x288 with 1 Axes>"
      ]
     },
     "metadata": {
      "needs_background": "light"
     },
     "output_type": "display_data"
    }
   ],
   "source": [
    "plt.plot(time, ground, 'b', label=r'$E_{0}$')\n",
    "plt.plot(time, first_excite, 'r', label=r'$E_{1}$')\n",
    "plt.ylabel(r'Energy $E$')\n",
    "plt.xlabel('Time $s$')\n",
    "\n",
    "plt.title('trivial 4 sites, '+f'$\\lambda=15$')\n",
    "plt.legend()\n",
    "\n",
    "plt.show()"
   ]
  },
  {
   "cell_type": "code",
   "execution_count": 18,
   "metadata": {},
   "outputs": [
    {
     "data": {
      "image/png": "[encoded data removed]",
      "text/plain": [
       "<Figure size 432x288 with 1 Axes>"
      ]
     },
     "metadata": {
      "needs_background": "light"
     },
     "output_type": "display_data"
    }
   ],
   "source": [
    "plt.plot(time, ground, 'b', label=r'$E_{0}$')\n",
    "plt.plot(time, first_excite, 'r', label=r'$E_{1}$')\n",
    "plt.ylabel(r'Energy $E$')\n",
    "plt.xlabel('Time $s$')\n",
    "\n",
    "plt.title('non-trivial 9 sites, '+f'$\\lambda=5$')\n",
    "plt.legend()\n",
    "\n",
    "plt.show()"
   ]
  },
  {
   "cell_type": "markdown",
   "metadata": {},
   "source": [
    "## Time Evolution"
   ]
  },
  {
   "cell_type": "code",
   "execution_count": 6,
   "metadata": {},
   "outputs": [],
   "source": [
    "lbd = 5.0\n",
    "H_prob = H_p(mine_graph, n) + lbd*H_s(mine_graph, n)\n",
    "H_basic = H_b(n)"
   ]
  },
  {
   "cell_type": "code",
   "execution_count": 7,
   "metadata": {},
   "outputs": [],
   "source": [
    "# ground state of H basic\n",
    "Ham = DenseMatrix('double', H_basic, model, statemap)\n",
    "evals, evecs = la.eigh(Ham)\n",
    "init_state = evecs[:, 0]"
   ]
  },
  {
   "cell_type": "code",
   "execution_count": 8,
   "metadata": {},
   "outputs": [
    {
     "data": {
      "text/plain": [
       "-9.0"
      ]
     },
     "execution_count": 8,
     "metadata": {},
     "output_type": "execute_result"
    }
   ],
   "source": [
    "init_state.T@Ham@init_state"
   ]
  },
  {
   "cell_type": "code",
   "execution_count": 9,
   "metadata": {},
   "outputs": [],
   "source": [
    "T = 40\n",
    "nstep = 400\n",
    "\n",
    "delT = T / nstep\n",
    "time = np.arange(0, T+delT, T/nstep) / T"
   ]
  },
  {
   "cell_type": "code",
   "execution_count": 10,
   "metadata": {},
   "outputs": [],
   "source": [
    "state = init_state\n",
    "Hp = DenseMatrix('double', H_prob, model, statemap)\n",
    "Hb = DenseMatrix('double', H_basic, model, statemap)"
   ]
  },
  {
   "cell_type": "code",
   "execution_count": 11,
   "metadata": {},
   "outputs": [
    {
     "name": "stdout",
     "output_type": "stream",
     "text": [
      "most probable state: 101100001\n",
      "probability: 0.0019531250000000043\n",
      "--------------------------------------------------\n",
      "most probable state: 101100001\n",
      "probability: 0.010127147294163244\n",
      "--------------------------------------------------\n",
      "most probable state: 101100001\n",
      "probability: 0.04479175679156988\n",
      "--------------------------------------------------\n",
      "most probable state: 101100001\n",
      "probability: 0.11834601486632051\n",
      "--------------------------------------------------\n",
      "most probable state: 101100001\n",
      "probability: 0.24177295780681834\n",
      "--------------------------------------------------\n",
      "most probable state: 101100001\n",
      "probability: 0.43610811818982054\n",
      "--------------------------------------------------\n",
      "most probable state: 101100001\n",
      "probability: 0.6567909401093852\n",
      "--------------------------------------------------\n",
      "most probable state: 101100001\n",
      "probability: 0.866170106643494\n",
      "--------------------------------------------------\n",
      "most probable state: 101100001\n",
      "probability: 0.9454464541052259\n",
      "--------------------------------------------------\n",
      "most probable state: 101100001\n",
      "probability: 0.9864648481919789\n",
      "--------------------------------------------------\n",
      "most probable state: 101100001\n",
      "probability: 0.9961770537866195\n",
      "--------------------------------------------------\n"
     ]
    }
   ],
   "source": [
    "for it, t in enumerate(time):\n",
    "    state = la.expm(-delT*1.j*t*Hp)@state\n",
    "    state = la.expm(-delT*1.j*(1-t)*Hb)@state\n",
    "    if it%40 == 0:\n",
    "        prob = list(map(lambda x:x.real**2+x.imag**2, state))\n",
    "        print(f\"most probable state: {dig_state[np.argmax(prob)]}\")\n",
    "        print(f\"probability: {np.max(prob)}\")\n",
    "        print(\"--------------------------------------------------\")\n",
    "        "
   ]
  },
  {
   "cell_type": "code",
   "execution_count": 12,
   "metadata": {},
   "outputs": [],
   "source": [
    "prob = list(map(lambda x:x.real**2+x.imag**2, state))"
   ]
  },
  {
   "cell_type": "code",
   "execution_count": 12,
   "metadata": {},
   "outputs": [],
   "source": [
    "#s = dig_state[np.argmax(prob)]\n",
    "s = '101100001'\n",
    "fs = list(s)[::-1]\n",
    "ffs = ''.join([str(int(c == '0')) for c in fs])"
   ]
  },
  {
   "cell_type": "code",
   "execution_count": 13,
   "metadata": {},
   "outputs": [
    {
     "name": "stdout",
     "output_type": "stream",
     "text": [
      "+---+---+---+---+---+---+\n",
      "|   | 0 | 1 | 2 | 3 | 4 |\n",
      "+---+---+---+---+---+---+\n",
      "| 0 | 0 | 1 | 1 | 1 | 1 |\n",
      "| 1 | x | 0 | 0 | 1 | x |\n",
      "| 2 | x | x | 0 | x | x |\n",
      "+---+---+---+---+---+---+\n"
     ]
    }
   ],
   "source": [
    "plot_mine_state(ffs)"
   ]
  },
  {
   "cell_type": "code",
   "execution_count": 11,
   "metadata": {},
   "outputs": [
    {
     "name": "stdout",
     "output_type": "stream",
     "text": [
      "+---+---+---+---+---+---+\n",
      "|   | 0 | 1 | 2 | 3 | 4 |\n",
      "+---+---+---+---+---+---+\n",
      "| 0 | 0 | 1 | 0 | 0 | 1 |\n",
      "| 1 | x | 1 | 1 | 1 | x |\n",
      "| 2 | x | x | 0 | x | x |\n",
      "+---+---+---+---+---+---+\n"
     ]
    }
   ],
   "source": [
    "plot_mine_state('010011110')"
   ]
  },
  {
   "cell_type": "code",
   "execution_count": null,
   "metadata": {},
   "outputs": [],
   "source": [
    "'101100001'"
   ]
  }
 ],
 "metadata": {
  "kernelspec": {
   "display_name": "Python 3",
   "language": "python",
   "name": "python3"
  },
  "language_info": {
   "codemirror_mode": {
    "name": "ipython",
    "version": 3
   },
   "file_extension": ".py",
   "mimetype": "text/x-python",
   "name": "python",
   "nbconvert_exporter": "python",
   "pygments_lexer": "ipython3",
   "version": "3.7.4"
  }
 },
 "nbformat": 4,
 "nbformat_minor": 2
}
