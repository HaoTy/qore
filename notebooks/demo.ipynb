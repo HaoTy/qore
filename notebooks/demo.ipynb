{
 "metadata": {
  "language_info": {
   "codemirror_mode": {
    "name": "ipython",
    "version": 3
   },
   "file_extension": ".py",
   "mimetype": "text/x-python",
   "name": "python",
   "nbconvert_exporter": "python",
   "pygments_lexer": "ipython3",
   "version": "3.9.4"
  },
  "orig_nbformat": 2,
  "kernelspec": {
   "name": "python394jvsc74a57bd020b62a756ac32e827949d5ed471d2d159e6b1effeae03bf18f3adb89f822fca7",
   "display_name": "Python 3.9.4 64-bit ('qiskit': virtualenvwrapper)"
  }
 },
 "nbformat": 4,
 "nbformat_minor": 2,
 "cells": [
  {
   "cell_type": "code",
   "execution_count": null,
   "metadata": {},
   "outputs": [],
   "source": [
    "import numpy as np\n",
    "from qiskit.providers.aer import QasmSimulator\n",
    "\n",
    "from qore import Mine, ASP, QAOA, VQE, Pseudoflow, ExactDiagonalization"
   ]
  },
  {
   "source": [
    "### First, we define the problem with a 2D numpy array or a file path."
   ],
   "cell_type": "markdown",
   "metadata": {}
  },
  {
   "cell_type": "code",
   "execution_count": null,
   "metadata": {},
   "outputs": [],
   "source": [
    "# qmine = Mine('mine_config.txt')\n",
    "\n",
    "# qmine = Mine(np.array([[-2., 3., 1., -1.], [float('inf'), 5., 3., float('inf')]]))\n",
    "\n",
    "qmine = Mine(np.array([[-2.0, 3.0, -1.0, -2.0, -1.0], [float('inf'), 1.0, -5.0, 10.0, float('inf')], [float('inf'), float('inf'), 4.0, float('inf'), float('inf')]]))\n",
    "\n",
    "qmine.plot_mine()"
   ]
  },
  {
   "source": [
    "### Following we define the algorithm to use with proper parameters.\n",
    "Available algorithms: \n",
    "- Classical: Pseudoflow, ExactDiagonalization\n",
    "- Quantum: ASP, QAOA, VQE\n",
    "\n",
    "Pseudoflow is a state-of-the-art classical algorithm for the open-mining problem. It is fast and can be used to check the correctness of the results given by quantum algorithms.\n",
    "\n",
    "ExactDiagonalization is directly diagonalizing the Hamiltonian to find its eigenvectors. It is fast for small systems but intractable for large systems.\n",
    "\n",
    "ASP (Adiabatic State Preparation, https://arxiv.org/abs/quant-ph/0001106), QAOA (Quantum Approximate Optimization Algorithm, https://arxiv.org/abs/1411.4028), and VQE (Variational Quantum Eigensolver, https://arxiv.org/abs/1304.3061) are the quantum-classic hybrid algorithms we mainly want to test.\n",
    "\n",
    "### Pseudoflow"
   ],
   "cell_type": "markdown",
   "metadata": {}
  },
  {
   "cell_type": "code",
   "execution_count": null,
   "metadata": {},
   "outputs": [],
   "source": [
    "algorithm = Pseudoflow()"
   ]
  },
  {
   "source": [
    "### Exact Diagonalization"
   ],
   "cell_type": "markdown",
   "metadata": {}
  },
  {
   "cell_type": "code",
   "execution_count": null,
   "metadata": {},
   "outputs": [],
   "source": [
    "algorithm = ExactDiagonalization()"
   ]
  },
  {
   "source": [
    "### ASP"
   ],
   "cell_type": "markdown",
   "metadata": {}
  },
  {
   "cell_type": "code",
   "execution_count": null,
   "metadata": {},
   "outputs": [],
   "source": [
    "algorithm = ASP(evol_time=10, nsteps=20)"
   ]
  },
  {
   "source": [
    "Optionally, add a callback function, a callback frequency, and/or a specific backend to use"
   ],
   "cell_type": "markdown",
   "metadata": {}
  },
  {
   "cell_type": "code",
   "execution_count": null,
   "metadata": {},
   "outputs": [],
   "source": [
    "from qore.utils import get_bitstring_probabilities\n",
    "\n",
    "# define a callback function\n",
    "def analysis(circ, iter):\n",
    "    print(f\"--- Iter {iter} ---\")\n",
    "    x = get_bitstring_probabilities(circ, algorithm.quantum_instance)\n",
    "    bitstr, prob = max(x.items(), key=lambda item: item[1])\n",
    "    print(f\"The most probable configuration and the corresponding probability: {bitstr, prob}\")\n",
    "\n",
    "algorithm = ASP(\n",
    "    evol_time=10,\n",
    "    nsteps=20,\n",
    "    callback=analysis,\n",
    "    callback_freq=5,\n",
    "    quantum_instance=QasmSimulator(),\n",
    ")"
   ]
  },
  {
   "source": [
    "### QAOA"
   ],
   "cell_type": "markdown",
   "metadata": {}
  },
  {
   "cell_type": "code",
   "execution_count": null,
   "metadata": {},
   "outputs": [],
   "source": [
    "from qiskit.algorithms.optimizers import COBYLA\n",
    "\n",
    "algorithm = QAOA(\n",
    "        optimizer=COBYLA(),\n",
    "        reps=3,\n",
    "        quantum_instance=QasmSimulator(),\n",
    "    )"
   ]
  },
  {
   "source": [
    "### VQE"
   ],
   "cell_type": "markdown",
   "metadata": {}
  },
  {
   "cell_type": "code",
   "execution_count": null,
   "metadata": {},
   "outputs": [],
   "source": [
    "from qiskit.circuit.library import EfficientSU2\n",
    "\n",
    "algorithm = VQE(\n",
    "        ansatz=EfficientSU2(\n",
    "            qmine.nqubits,\n",
    "            su2_gates=[\"ry\"],\n",
    "            entanglement=\"full\",\n",
    "            reps=3,\n",
    "            insert_barriers=True,\n",
    "        ),\n",
    "        optimizer=COBYLA(),\n",
    "        quantum_instance=QasmSimulator(),\n",
    "    )"
   ]
  },
  {
   "source": [
    "### Now let's solve the problem with the selected algorithm"
   ],
   "cell_type": "markdown",
   "metadata": {}
  },
  {
   "cell_type": "code",
   "execution_count": null,
   "metadata": {},
   "outputs": [],
   "source": [
    "result = qmine.solve(algorithm)"
   ]
  },
  {
   "source": [
    "### Additional options\n",
    "\n",
    "The second parameter in `Mine.solve()` can be a scalar or a `bool` or `None`. Default is `None`.\n",
    "\n",
    "- When it evaluates to `False`, the projector Hamiltonian is used, which only allow valid (no constraint violation) states. This method does not introduce any new hyperparameters, but does not have a quantum speedup (needs to run on classical computers).\n",
    "\n",
    "- When it is a scalar, the penalty Hamiltonian is used and it serves as the penalty factor (a problem-dependent hyperparameter that needs to be chosen wisely).\n",
    "\n",
    "- When it is `True`, an experimental heuristic penalty function (based on the mine values and number of sites) will be used to set the penalty. Warning: may be very inaccurate, especially for penalty-sensitive algorithms like QAOA and VQE)."
   ],
   "cell_type": "markdown",
   "metadata": {}
  },
  {
   "cell_type": "code",
   "execution_count": null,
   "metadata": {},
   "outputs": [],
   "source": [
    "result = qmine.solve(algorithm, penalty=10)"
   ]
  },
  {
   "source": [
    "The third parameter in `Mine.solve()` can be used to enable the benchmark and profiling functions.\n",
    "\n",
    "Setting it to `True` is equivalent to using the default settings of `qore.Benchmark()`."
   ],
   "cell_type": "markdown",
   "metadata": {}
  },
  {
   "cell_type": "code",
   "execution_count": null,
   "metadata": {},
   "outputs": [],
   "source": [
    "result = qmine.solve(algorithm, benchmark=True)"
   ]
  },
  {
   "source": [
    "Setting the `time_profiler` in `qore.Benchmark()` to \"cProfile\" to get more (but less readable) information. \n",
    "\n",
    "Toggling `profile_time` and `profile_memory` on or off to enable or disable the time and memory profilers when not needed. This may come in handy when we only want a wall time and want to avoid the additional overheads.\n",
    "\n",
    "Setting the `path` to save the benchmark results in a json file."
   ],
   "cell_type": "markdown",
   "metadata": {}
  },
  {
   "cell_type": "code",
   "execution_count": null,
   "metadata": {},
   "outputs": [],
   "source": [
    "from qore import Benchmark\n",
    "\n",
    "result = qmine.solve(algorithm,\n",
    "        benchmark=Benchmark(\n",
    "            time_profiler=\"cProfile\",\n",
    "            profile_memory=False\n",
    "        )\n",
    "    )"
   ]
  }
 ]
}