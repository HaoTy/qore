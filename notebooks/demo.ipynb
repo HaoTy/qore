{
 "metadata": {
  "language_info": {
   "codemirror_mode": {
    "name": "ipython",
    "version": 3
   },
   "file_extension": ".py",
   "mimetype": "text/x-python",
   "name": "python",
   "nbconvert_exporter": "python",
   "pygments_lexer": "ipython3",
   "version": "3.9.3"
  },
  "orig_nbformat": 2,
  "kernelspec": {
   "name": "python393jvsc74a57bd020b62a756ac32e827949d5ed471d2d159e6b1effeae03bf18f3adb89f822fca7",
   "display_name": "Python 3.9.3 64-bit ('qiskit': virtualenvwrapper)"
  }
 },
 "nbformat": 4,
 "nbformat_minor": 2,
 "cells": [
  {
   "cell_type": "code",
   "execution_count": 1,
   "metadata": {},
   "outputs": [],
   "source": [
    "import numpy as np\n",
    "from qore import Mine, ASP, QAOA, VQE\n",
    "from qore.utils import measure_operator, get_bitstring_probabilities"
   ]
  },
  {
   "cell_type": "code",
   "execution_count": 2,
   "metadata": {},
   "outputs": [
    {
     "output_type": "stream",
     "name": "stdout",
     "text": [
      "+---+--------+-------+-------+\n|   |   0    |   1   |   2   |\n+---+--------+-------+-------+\n| 0 | -2.000 | 3.000 | 1.000 |\n| 1 |  inf   | 5.000 |  inf  |\n+---+--------+-------+-------+\n"
     ]
    }
   ],
   "source": [
    "penalty = 10.0\n",
    "qmine = Mine(np.array([[-2., 3., 1.], [float('inf'), 5., float('inf')]]))\n",
    "\n",
    "# penalty = 20.0\n",
    "# qmine = Mine(np.array([[-2., 3., 1., -1.], [float('inf'), 5., 3., float('inf')]]))\n",
    "\n",
    "# penalty = 5.0\n",
    "# qmine = Mine(np.array([[-2.0, 3.0, -1.0, -2.0, -1.0], [float('inf'), 5.0, 3.0, 10.0, float('inf')], [float('inf'), float('inf'), 4.0, float('inf'), float('inf')]]))\n",
    "\n",
    "qmine.plot_mine()"
   ]
  },
  {
   "cell_type": "code",
   "execution_count": 3,
   "metadata": {},
   "outputs": [
    {
     "output_type": "execute_result",
     "data": {
      "text/plain": [
       "defaultdict(list, {3: [0, 1, 2], 0: [], 1: [], 2: []})"
      ]
     },
     "metadata": {},
     "execution_count": 3
    }
   ],
   "source": [
    "qmine.graph"
   ]
  },
  {
   "cell_type": "code",
   "execution_count": 4,
   "metadata": {},
   "outputs": [
    {
     "output_type": "stream",
     "name": "stdout",
     "text": [
      "-0.0 * IIII\n+ 1.0 * IIII\n- 1.0 * IIIZ\n- 1.5 * IIII\n+ 1.5 * IIZI\n- 0.5 * IIII\n+ 0.5 * IZII\n- 2.5 * IIII\n+ 2.5 * ZIII\n+ 0.0 * IIII\n+ 2.5 * IIII\n+ 2.5 * IIIZ\n- 2.5 * ZIII\n- 2.5 * ZIIZ\n+ 2.5 * IIII\n+ 2.5 * IIZI\n- 2.5 * ZIII\n- 2.5 * ZIZI\n+ 2.5 * IIII\n+ 2.5 * IZII\n- 2.5 * ZIII\n- 2.5 * ZZII\n"
     ]
    }
   ],
   "source": [
    "print(qmine.gen_Hamiltonian(penalty=penalty))"
   ]
  },
  {
   "cell_type": "code",
   "execution_count": 6,
   "metadata": {
    "tags": []
   },
   "outputs": [],
   "source": [
    "from qiskit.utils import algorithm_globals, QuantumInstance\n",
    "from qiskit import Aer\n",
    "\n",
    "algorithm_globals.random_seed = 1953\n",
    "# backend = Aer.get_backend('statevector_simulator')\n",
    "\n",
    "def analysis(circ):\n",
    "    # print(\"Average Profit:                          \", measure_operator(qmine.Hp, circ, QuantumInstance(backend=Aer.get_backend('statevector_simulator'))))\n",
    "    # print(\"Average Number of Smoothness Violations: \", measure_operator(qmine.Hs, circ, QuantumInstance(backend=Aer.get_backend('statevector_simulator'))) / penalty)\n",
    "    x = get_bitstring_probabilities(circ, QuantumInstance(backend=Aer.get_backend('statevector_simulator')), shots=1024)\n",
    "    bitstr, prob = max(x.items(), key=lambda item: item[1])\n",
    "    print(f\"The most probable configuration and the corresponding probability: {bitstr, prob}\")\n",
    "    # qmine.plot_mine_state(bitstr)\n",
    "    # print(\"Current profit:               \", qmine.get_profit(bitstr))\n",
    "    # print(\"Current number of violations: \", qmine.get_violation(bitstr))\n",
    "    # print(x)\n",
    "    # print(\"------------------------------------------------------------\")"
   ]
  },
  {
   "cell_type": "code",
   "execution_count": 12,
   "metadata": {
    "tags": []
   },
   "outputs": [
    {
     "output_type": "error",
     "ename": "TypeError",
     "evalue": "ListOp expecting objects of type OperatorBase, got      ┌───┐┌───┐\nq_0: ┤ X ├┤ H ├\n     ├───┤├───┤\nq_1: ┤ X ├┤ H ├\n     ├───┤├───┤\nq_2: ┤ X ├┤ H ├\n     ├───┤├───┤\nq_3: ┤ X ├┤ H ├\n     └───┘└───┘",
     "traceback": [
      "\u001b[0;31m---------------------------------------------------------------------------\u001b[0m",
      "\u001b[0;31mTypeError\u001b[0m                                 Traceback (most recent call last)",
      "\u001b[0;32m<ipython-input-12-835990d90c50>\u001b[0m in \u001b[0;36m<module>\u001b[0;34m\u001b[0m\n\u001b[1;32m      3\u001b[0m \u001b[0;34m\u001b[0m\u001b[0m\n\u001b[1;32m      4\u001b[0m \u001b[0;34m\u001b[0m\u001b[0m\n\u001b[0;32m----> 5\u001b[0;31m circuit = ASP(qmine.gen_Hamiltonian(penalty=penalty), \n\u001b[0m\u001b[1;32m      6\u001b[0m     \u001b[0mevol_time\u001b[0m\u001b[0;34m=\u001b[0m\u001b[0mevol_time\u001b[0m\u001b[0;34m,\u001b[0m\u001b[0;34m\u001b[0m\u001b[0;34m\u001b[0m\u001b[0m\n\u001b[1;32m      7\u001b[0m     \u001b[0mnsteps\u001b[0m\u001b[0;34m=\u001b[0m\u001b[0mnsteps\u001b[0m\u001b[0;34m,\u001b[0m\u001b[0;34m\u001b[0m\u001b[0;34m\u001b[0m\u001b[0m\n",
      "\u001b[0;32m/mnt/c/Users/Hao/code/IBM-QC-Open-Pit-Mining/qore/algorithms/asp.py\u001b[0m in \u001b[0;36mconstruct_circuit\u001b[0;34m(self)\u001b[0m\n\u001b[1;32m     93\u001b[0m             \u001b[0;31m# evolution_op = (evo_time * ((1 - xi)* self.H_B + xi * self.H_P)).exp_i()\u001b[0m\u001b[0;34m\u001b[0m\u001b[0;34m\u001b[0m\u001b[0;34m\u001b[0m\u001b[0m\n\u001b[1;32m     94\u001b[0m             \u001b[0mevolution_op\u001b[0m \u001b[0;34m=\u001b[0m \u001b[0;34m(\u001b[0m\u001b[0;34m(\u001b[0m\u001b[0;36m1\u001b[0m \u001b[0;34m-\u001b[0m \u001b[0mxi\u001b[0m\u001b[0;34m)\u001b[0m\u001b[0;34m*\u001b[0m \u001b[0mself\u001b[0m\u001b[0;34m.\u001b[0m\u001b[0mH_B\u001b[0m \u001b[0;34m+\u001b[0m \u001b[0mxi\u001b[0m \u001b[0;34m*\u001b[0m \u001b[0mself\u001b[0m\u001b[0;34m.\u001b[0m\u001b[0mH_P\u001b[0m\u001b[0;34m)\u001b[0m\u001b[0;34m.\u001b[0m\u001b[0mexp_i\u001b[0m\u001b[0;34m(\u001b[0m\u001b[0;34m)\u001b[0m\u001b[0;34m\u001b[0m\u001b[0;34m\u001b[0m\u001b[0m\n\u001b[0;32m---> 95\u001b[0;31m             \u001b[0mcirc\u001b[0m \u001b[0;34m=\u001b[0m \u001b[0mevolution_op\u001b[0m \u001b[0;34m@\u001b[0m \u001b[0mcirc\u001b[0m\u001b[0;34m\u001b[0m\u001b[0;34m\u001b[0m\u001b[0m\n\u001b[0m\u001b[1;32m     96\u001b[0m             \u001b[0;31m# trotterized_op = PauliTrotterEvolution().convert(circ)\u001b[0m\u001b[0;34m\u001b[0m\u001b[0;34m\u001b[0m\u001b[0;34m\u001b[0m\u001b[0m\n\u001b[1;32m     97\u001b[0m             \u001b[0;31m# bound = trotterized_op.bind_parameters({evo_time: self.evol_time / float(self.nsteps)})\u001b[0m\u001b[0;34m\u001b[0m\u001b[0;34m\u001b[0m\u001b[0;34m\u001b[0m\u001b[0m\n",
      "\u001b[0;32m~/.virtualenvs/qiskit/lib/python3.9/site-packages/qiskit/opflow/operator_base.py\u001b[0m in \u001b[0;36m__matmul__\u001b[0;34m(self, other)\u001b[0m\n\u001b[1;32m    574\u001b[0m             \u001b[0mAn\u001b[0m\u001b[0;31m \u001b[0m\u001b[0;31m`\u001b[0m\u001b[0;31m`\u001b[0m\u001b[0mOperatorBase\u001b[0m\u001b[0;31m`\u001b[0m\u001b[0;31m`\u001b[0m \u001b[0mequivalent\u001b[0m \u001b[0mto\u001b[0m \u001b[0mthe\u001b[0m \u001b[0mfunction\u001b[0m \u001b[0mcomposition\u001b[0m \u001b[0mof\u001b[0m \u001b[0mself\u001b[0m \u001b[0;32mand\u001b[0m \u001b[0mother\u001b[0m\u001b[0;34m.\u001b[0m\u001b[0;34m\u001b[0m\u001b[0;34m\u001b[0m\u001b[0m\n\u001b[1;32m    575\u001b[0m         \"\"\"\n\u001b[0;32m--> 576\u001b[0;31m         \u001b[0;32mreturn\u001b[0m \u001b[0mself\u001b[0m\u001b[0;34m.\u001b[0m\u001b[0mcompose\u001b[0m\u001b[0;34m(\u001b[0m\u001b[0mother\u001b[0m\u001b[0;34m)\u001b[0m\u001b[0;34m\u001b[0m\u001b[0;34m\u001b[0m\u001b[0m\n\u001b[0m\u001b[1;32m    577\u001b[0m \u001b[0;34m\u001b[0m\u001b[0m\n\u001b[1;32m    578\u001b[0m     \u001b[0;34m@\u001b[0m\u001b[0mabstractmethod\u001b[0m\u001b[0;34m\u001b[0m\u001b[0;34m\u001b[0m\u001b[0m\n",
      "\u001b[0;32m~/.virtualenvs/qiskit/lib/python3.9/site-packages/qiskit/opflow/evolutions/evolved_op.py\u001b[0m in \u001b[0;36mcompose\u001b[0;34m(self, other, permutation, front)\u001b[0m\n\u001b[1;32m    107\u001b[0m             \u001b[0;32mreturn\u001b[0m \u001b[0mComposedOp\u001b[0m\u001b[0;34m(\u001b[0m\u001b[0;34m[\u001b[0m\u001b[0mnew_self\u001b[0m\u001b[0;34m]\u001b[0m \u001b[0;34m+\u001b[0m \u001b[0mother\u001b[0m\u001b[0;34m.\u001b[0m\u001b[0moplist\u001b[0m\u001b[0;34m)\u001b[0m\u001b[0;34m\u001b[0m\u001b[0;34m\u001b[0m\u001b[0m\n\u001b[1;32m    108\u001b[0m \u001b[0;34m\u001b[0m\u001b[0m\n\u001b[0;32m--> 109\u001b[0;31m         \u001b[0;32mreturn\u001b[0m \u001b[0mComposedOp\u001b[0m\u001b[0;34m(\u001b[0m\u001b[0;34m[\u001b[0m\u001b[0mnew_self\u001b[0m\u001b[0;34m,\u001b[0m \u001b[0mother\u001b[0m\u001b[0;34m]\u001b[0m\u001b[0;34m)\u001b[0m\u001b[0;34m\u001b[0m\u001b[0;34m\u001b[0m\u001b[0m\n\u001b[0m\u001b[1;32m    110\u001b[0m \u001b[0;34m\u001b[0m\u001b[0m\n\u001b[1;32m    111\u001b[0m     \u001b[0;32mdef\u001b[0m \u001b[0m__str__\u001b[0m\u001b[0;34m(\u001b[0m\u001b[0mself\u001b[0m\u001b[0;34m)\u001b[0m \u001b[0;34m->\u001b[0m \u001b[0mstr\u001b[0m\u001b[0;34m:\u001b[0m\u001b[0;34m\u001b[0m\u001b[0;34m\u001b[0m\u001b[0m\n",
      "\u001b[0;32m~/.virtualenvs/qiskit/lib/python3.9/site-packages/qiskit/opflow/list_ops/composed_op.py\u001b[0m in \u001b[0;36m__init__\u001b[0;34m(self, oplist, coeff, abelian)\u001b[0m\n\u001b[1;32m     43\u001b[0m             \u001b[0mabelian\u001b[0m\u001b[0;34m:\u001b[0m \u001b[0mIndicates\u001b[0m \u001b[0mwhether\u001b[0m \u001b[0mthe\u001b[0m \u001b[0mOperators\u001b[0m \u001b[0;32min\u001b[0m\u001b[0;31m \u001b[0m\u001b[0;31m`\u001b[0m\u001b[0;31m`\u001b[0m\u001b[0moplist\u001b[0m\u001b[0;31m`\u001b[0m\u001b[0;31m`\u001b[0m \u001b[0mare\u001b[0m \u001b[0mknown\u001b[0m \u001b[0mto\u001b[0m \u001b[0mmutually\u001b[0m \u001b[0mcommute\u001b[0m\u001b[0;34m.\u001b[0m\u001b[0;34m\u001b[0m\u001b[0;34m\u001b[0m\u001b[0m\n\u001b[1;32m     44\u001b[0m         \"\"\"\n\u001b[0;32m---> 45\u001b[0;31m         super().__init__(oplist,\n\u001b[0m\u001b[1;32m     46\u001b[0m                          \u001b[0mcombo_fn\u001b[0m\u001b[0;34m=\u001b[0m\u001b[0mpartial\u001b[0m\u001b[0;34m(\u001b[0m\u001b[0mreduce\u001b[0m\u001b[0;34m,\u001b[0m \u001b[0mnp\u001b[0m\u001b[0;34m.\u001b[0m\u001b[0mdot\u001b[0m\u001b[0;34m)\u001b[0m\u001b[0;34m,\u001b[0m\u001b[0;34m\u001b[0m\u001b[0;34m\u001b[0m\u001b[0m\n\u001b[1;32m     47\u001b[0m                          \u001b[0mcoeff\u001b[0m\u001b[0;34m=\u001b[0m\u001b[0mcoeff\u001b[0m\u001b[0;34m,\u001b[0m\u001b[0;34m\u001b[0m\u001b[0;34m\u001b[0m\u001b[0m\n",
      "\u001b[0;32m~/.virtualenvs/qiskit/lib/python3.9/site-packages/qiskit/opflow/list_ops/list_op.py\u001b[0m in \u001b[0;36m__init__\u001b[0;34m(self, oplist, combo_fn, coeff, abelian, grad_combo_fn)\u001b[0m\n\u001b[1;32m     73\u001b[0m         \"\"\"\n\u001b[1;32m     74\u001b[0m         \u001b[0msuper\u001b[0m\u001b[0;34m(\u001b[0m\u001b[0;34m)\u001b[0m\u001b[0;34m.\u001b[0m\u001b[0m__init__\u001b[0m\u001b[0;34m(\u001b[0m\u001b[0;34m)\u001b[0m\u001b[0;34m\u001b[0m\u001b[0;34m\u001b[0m\u001b[0m\n\u001b[0;32m---> 75\u001b[0;31m         \u001b[0mself\u001b[0m\u001b[0;34m.\u001b[0m\u001b[0m_oplist\u001b[0m \u001b[0;34m=\u001b[0m \u001b[0mself\u001b[0m\u001b[0;34m.\u001b[0m\u001b[0m_check_input_types\u001b[0m\u001b[0;34m(\u001b[0m\u001b[0moplist\u001b[0m\u001b[0;34m)\u001b[0m\u001b[0;34m\u001b[0m\u001b[0;34m\u001b[0m\u001b[0m\n\u001b[0m\u001b[1;32m     76\u001b[0m         \u001b[0mself\u001b[0m\u001b[0;34m.\u001b[0m\u001b[0m_combo_fn\u001b[0m \u001b[0;34m=\u001b[0m \u001b[0mcombo_fn\u001b[0m\u001b[0;34m\u001b[0m\u001b[0;34m\u001b[0m\u001b[0m\n\u001b[1;32m     77\u001b[0m         \u001b[0mself\u001b[0m\u001b[0;34m.\u001b[0m\u001b[0m_coeff\u001b[0m \u001b[0;34m=\u001b[0m \u001b[0mcoeff\u001b[0m\u001b[0;34m\u001b[0m\u001b[0;34m\u001b[0m\u001b[0m\n",
      "\u001b[0;32m~/.virtualenvs/qiskit/lib/python3.9/site-packages/qiskit/opflow/list_ops/list_op.py\u001b[0m in \u001b[0;36m_check_input_types\u001b[0;34m(self, oplist)\u001b[0m\n\u001b[1;32m     84\u001b[0m         \u001b[0;32melse\u001b[0m\u001b[0;34m:\u001b[0m\u001b[0;34m\u001b[0m\u001b[0;34m\u001b[0m\u001b[0m\n\u001b[1;32m     85\u001b[0m             \u001b[0mbadval\u001b[0m \u001b[0;34m=\u001b[0m \u001b[0mnext\u001b[0m\u001b[0;34m(\u001b[0m\u001b[0mx\u001b[0m \u001b[0;32mfor\u001b[0m \u001b[0mx\u001b[0m \u001b[0;32min\u001b[0m \u001b[0moplist\u001b[0m \u001b[0;32mif\u001b[0m \u001b[0;32mnot\u001b[0m \u001b[0misinstance\u001b[0m\u001b[0;34m(\u001b[0m\u001b[0mx\u001b[0m\u001b[0;34m,\u001b[0m \u001b[0mOperatorBase\u001b[0m\u001b[0;34m)\u001b[0m\u001b[0;34m)\u001b[0m\u001b[0;34m\u001b[0m\u001b[0;34m\u001b[0m\u001b[0m\n\u001b[0;32m---> 86\u001b[0;31m             \u001b[0;32mraise\u001b[0m \u001b[0mTypeError\u001b[0m\u001b[0;34m(\u001b[0m\u001b[0;34mf'ListOp expecting objects of type OperatorBase, got {badval}'\u001b[0m\u001b[0;34m)\u001b[0m\u001b[0;34m\u001b[0m\u001b[0;34m\u001b[0m\u001b[0m\n\u001b[0m\u001b[1;32m     87\u001b[0m \u001b[0;34m\u001b[0m\u001b[0m\n\u001b[1;32m     88\u001b[0m     def _state(self,\n",
      "\u001b[0;31mTypeError\u001b[0m: ListOp expecting objects of type OperatorBase, got      ┌───┐┌───┐\nq_0: ┤ X ├┤ H ├\n     ├───┤├───┤\nq_1: ┤ X ├┤ H ├\n     ├───┤├───┤\nq_2: ┤ X ├┤ H ├\n     ├───┤├───┤\nq_3: ┤ X ├┤ H ├\n     └───┘└───┘"
     ]
    }
   ],
   "source": [
    "evol_time = 20\n",
    "nsteps = 50\n",
    "\n",
    "\n",
    "circuit = ASP(qmine.gen_Hamiltonian(penalty=penalty), \n",
    "    evol_time=evol_time, \n",
    "    nsteps=nsteps, \n",
    "    callback=analysis, \n",
    "    # quantum_instance=QuantumInstance(backend=Aer.get_backend('statevector_simulator'))\n",
    ").construct_circuit()\n",
    "\n",
    "analysis(circuit)\n",
    "# print(circuit.draw())\n",
    "# print(circuit.decompose().draw())"
   ]
  },
  {
   "cell_type": "code",
   "execution_count": null,
   "metadata": {},
   "outputs": [],
   "source": [
    "from qiskit.algorithms.optimizers import COBYL\n",
    "\n",
    "p = 3\n",
    "qaoa = QAOA(\n",
    "        optimizer=COBYLA(),\n",
    "        quantum_instance=QuantumInstance(\n",
    "            backend=Aer.get_backend(\"statevector_simulator\")\n",
    "        ),\n",
    "        reps=p,\n",
    "    )\n",
    "qaoa.compute_minimum_eigenvalue(qmine.gen_Hamiltonian(penalty=penalty))\n",
    "circuit = qaoa.get_optimal_circuit()\n",
    "analysis(circuit)"
   ]
  },
  {
   "cell_type": "code",
   "execution_count": null,
   "metadata": {},
   "outputs": [],
   "source": []
  }
 ]
}