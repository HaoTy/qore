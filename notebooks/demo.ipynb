{
 "metadata": {
  "language_info": {
   "codemirror_mode": {
    "name": "ipython",
    "version": 3
   },
   "file_extension": ".py",
   "mimetype": "text/x-python",
   "name": "python",
   "nbconvert_exporter": "python",
   "pygments_lexer": "ipython3",
   "version": "3.9.1"
  },
  "orig_nbformat": 2,
  "kernelspec": {
   "name": "python391jvsc74a57bd01c98fc4fe92390271d15ae28cc783178c5efb4069f3af669a34a587febea39ec",
   "display_name": "Python 3.9.1 64-bit ('qiskit': conda)"
  }
 },
 "nbformat": 4,
 "nbformat_minor": 2,
 "cells": [
  {
   "cell_type": "code",
   "execution_count": 1,
   "metadata": {},
   "outputs": [],
   "source": [
    "import numpy as np\n",
    "\n",
    "from qore import Mine, ASP, QAOA, VQE, Pseudoflow\n",
    "#from qore import ASPSolver, QAOASolver, PseudoflowSolver\n",
    "\n",
    "from qore.utils import get_bitstring_probabilities"
   ]
  },
  {
   "cell_type": "code",
   "execution_count": 2,
   "metadata": {},
   "outputs": [
    {
     "output_type": "stream",
     "name": "stdout",
     "text": [
      "+---+--------+-------+-------+\n|   |   0    |   1   |   2   |\n+---+--------+-------+-------+\n| 0 | -2.000 | 3.000 | 1.000 |\n| 1 |  inf   | 5.000 |  inf  |\n+---+--------+-------+-------+\n"
     ]
    }
   ],
   "source": [
    "qmine = Mine('mine_config.txt')\n",
    "\n",
    "# penalty = 20.0\n",
    "# qmine = Mine(np.array([[-2., 3., 1., -1.], [float('inf'), 5., 3., float('inf')]]))\n",
    "\n",
    "# penalty = 5.0\n",
    "# qmine = Mine(np.array([[-2.0, 3.0, -1.0, -2.0, -1.0], [float('inf'), 5.0, 3.0, 10.0, float('inf')], [float('inf'), float('inf'), 4.0, float('inf'), float('inf')]]))\n",
    "\n",
    "qmine.plot_mine()"
   ]
  },
  {
   "cell_type": "code",
   "execution_count": 3,
   "metadata": {},
   "outputs": [
    {
     "output_type": "display_data",
     "data": {
      "text/plain": "<Figure size 432x288 with 1 Axes>",
      "image/svg+xml": "<?xml version=\"1.0\" encoding=\"utf-8\" standalone=\"no\"?>\n<!DOCTYPE svg PUBLIC \"-//W3C//DTD SVG 1.1//EN\"\n  \"http://www.w3.org/Graphics/SVG/1.1/DTD/svg11.dtd\">\n<!-- Created with matplotlib (https://matplotlib.org/) -->\n<svg height=\"231.84pt\" version=\"1.1\" viewBox=\"0 0 349.2 231.84\" width=\"349.2pt\" xmlns=\"http://www.w3.org/2000/svg\" xmlns:xlink=\"http://www.w3.org/1999/xlink\">\n <metadata>\n  <rdf:RDF xmlns:cc=\"http://creativecommons.org/ns#\" xmlns:dc=\"http://purl.org/dc/elements/1.1/\" xmlns:rdf=\"http://www.w3.org/1999/02/22-rdf-syntax-ns#\">\n   <cc:Work>\n    <dc:type rdf:resource=\"http://purl.org/dc/dcmitype/StillImage\"/>\n    <dc:date>2021-04-27T19:19:41.679761</dc:date>\n    <dc:format>image/svg+xml</dc:format>\n    <dc:creator>\n     <cc:Agent>\n      <dc:title>Matplotlib v3.3.4, https://matplotlib.org/</dc:title>\n     </cc:Agent>\n    </dc:creator>\n   </cc:Work>\n  </rdf:RDF>\n </metadata>\n <defs>\n  <style type=\"text/css\">*{stroke-linecap:butt;stroke-linejoin:round;}</style>\n </defs>\n <g id=\"figure_1\">\n  <g id=\"patch_1\">\n   <path d=\"M 0 231.84 \nL 349.2 231.84 \nL 349.2 0 \nL 0 0 \nz\n\" style=\"fill:none;\"/>\n  </g>\n  <g id=\"axes_1\">\n   <g id=\"patch_2\">\n    <path d=\"M 7.2 224.64 \nL 342 224.64 \nL 342 7.2 \nL 7.2 7.2 \nz\n\" style=\"fill:#ffffff;\"/>\n   </g>\n   <g id=\"LineCollection_1\">\n    <path clip-path=\"url(#pd09d8921e1)\" d=\"M 22.418182 185.246808 \nL 186.944042 139.401203 \n\" style=\"fill:none;stroke:#000000;stroke-opacity:0.8;\"/>\n    <path clip-path=\"url(#pd09d8921e1)\" d=\"M 326.781818 214.756364 \nL 186.944042 139.401203 \n\" style=\"fill:none;stroke:#000000;stroke-opacity:0.8;\"/>\n    <path clip-path=\"url(#pd09d8921e1)\" d=\"M 210.673406 17.083636 \nL 186.944042 139.401203 \n\" style=\"fill:none;stroke:#000000;stroke-opacity:0.8;\"/>\n   </g>\n   <g id=\"matplotlib.axis_1\">\n    <g id=\"xtick_1\"/>\n    <g id=\"xtick_2\"/>\n    <g id=\"xtick_3\"/>\n    <g id=\"xtick_4\"/>\n    <g id=\"xtick_5\"/>\n    <g id=\"xtick_6\"/>\n    <g id=\"xtick_7\"/>\n    <g id=\"xtick_8\"/>\n   </g>\n   <g id=\"matplotlib.axis_2\">\n    <g id=\"ytick_1\"/>\n    <g id=\"ytick_2\"/>\n    <g id=\"ytick_3\"/>\n    <g id=\"ytick_4\"/>\n    <g id=\"ytick_5\"/>\n    <g id=\"ytick_6\"/>\n    <g id=\"ytick_7\"/>\n    <g id=\"ytick_8\"/>\n    <g id=\"ytick_9\"/>\n   </g>\n   <g id=\"PathCollection_1\">\n    <defs>\n     <path d=\"M 0 12.247449 \nC 3.248061 12.247449 6.363528 10.95698 8.660254 8.660254 \nC 10.95698 6.363528 12.247449 3.248061 12.247449 -0 \nC 12.247449 -3.248061 10.95698 -6.363528 8.660254 -8.660254 \nC 6.363528 -10.95698 3.248061 -12.247449 0 -12.247449 \nC -3.248061 -12.247449 -6.363528 -10.95698 -8.660254 -8.660254 \nC -10.95698 -6.363528 -12.247449 -3.248061 -12.247449 0 \nC -12.247449 3.248061 -10.95698 6.363528 -8.660254 8.660254 \nC -6.363528 10.95698 -3.248061 12.247449 0 12.247449 \nz\n\" id=\"C0_0_8435374fed\"/>\n    </defs>\n    <g clip-path=\"url(#pd09d8921e1)\">\n     <use style=\"fill:#008000;fill-opacity:0.8;stroke:#008000;stroke-opacity:0.8;\" x=\"22.418182\" xlink:href=\"#C0_0_8435374fed\" y=\"185.246808\"/>\n    </g>\n    <g clip-path=\"url(#pd09d8921e1)\">\n     <use style=\"fill:#008000;fill-opacity:0.8;stroke:#008000;stroke-opacity:0.8;\" x=\"326.781818\" xlink:href=\"#C0_0_8435374fed\" y=\"214.756364\"/>\n    </g>\n    <g clip-path=\"url(#pd09d8921e1)\">\n     <use style=\"fill:#008000;fill-opacity:0.8;stroke:#008000;stroke-opacity:0.8;\" x=\"210.673406\" xlink:href=\"#C0_0_8435374fed\" y=\"17.083636\"/>\n    </g>\n    <g clip-path=\"url(#pd09d8921e1)\">\n     <use style=\"fill:#008000;fill-opacity:0.8;stroke:#008000;stroke-opacity:0.8;\" x=\"186.944042\" xlink:href=\"#C0_0_8435374fed\" y=\"139.401203\"/>\n    </g>\n   </g>\n   <g id=\"patch_3\">\n    <path d=\"M 7.2 224.64 \nL 7.2 7.2 \n\" style=\"fill:none;stroke:#000000;stroke-linecap:square;stroke-linejoin:miter;stroke-width:0.8;\"/>\n   </g>\n   <g id=\"patch_4\">\n    <path d=\"M 342 224.64 \nL 342 7.2 \n\" style=\"fill:none;stroke:#000000;stroke-linecap:square;stroke-linejoin:miter;stroke-width:0.8;\"/>\n   </g>\n   <g id=\"patch_5\">\n    <path d=\"M 7.2 224.64 \nL 342 224.64 \n\" style=\"fill:none;stroke:#000000;stroke-linecap:square;stroke-linejoin:miter;stroke-width:0.8;\"/>\n   </g>\n   <g id=\"patch_6\">\n    <path d=\"M 7.2 7.2 \nL 342 7.2 \n\" style=\"fill:none;stroke:#000000;stroke-linecap:square;stroke-linejoin:miter;stroke-width:0.8;\"/>\n   </g>\n   <g id=\"text_1\">\n    <g clip-path=\"url(#pd09d8921e1)\">\n     <!-- 0 -->\n     <g style=\"opacity:0.8;\" transform=\"translate(18.600682 188.558058)scale(0.12 -0.12)\">\n      <defs>\n       <path d=\"M 31.78125 66.40625 \nQ 24.171875 66.40625 20.328125 58.90625 \nQ 16.5 51.421875 16.5 36.375 \nQ 16.5 21.390625 20.328125 13.890625 \nQ 24.171875 6.390625 31.78125 6.390625 \nQ 39.453125 6.390625 43.28125 13.890625 \nQ 47.125 21.390625 47.125 36.375 \nQ 47.125 51.421875 43.28125 58.90625 \nQ 39.453125 66.40625 31.78125 66.40625 \nz\nM 31.78125 74.21875 \nQ 44.046875 74.21875 50.515625 64.515625 \nQ 56.984375 54.828125 56.984375 36.375 \nQ 56.984375 17.96875 50.515625 8.265625 \nQ 44.046875 -1.421875 31.78125 -1.421875 \nQ 19.53125 -1.421875 13.0625 8.265625 \nQ 6.59375 17.96875 6.59375 36.375 \nQ 6.59375 54.828125 13.0625 64.515625 \nQ 19.53125 74.21875 31.78125 74.21875 \nz\n\" id=\"DejaVuSans-48\"/>\n      </defs>\n      <use xlink:href=\"#DejaVuSans-48\"/>\n     </g>\n    </g>\n   </g>\n   <g id=\"text_2\">\n    <g clip-path=\"url(#pd09d8921e1)\">\n     <!-- 1 -->\n     <g style=\"opacity:0.8;\" transform=\"translate(322.964318 218.067614)scale(0.12 -0.12)\">\n      <defs>\n       <path d=\"M 12.40625 8.296875 \nL 28.515625 8.296875 \nL 28.515625 63.921875 \nL 10.984375 60.40625 \nL 10.984375 69.390625 \nL 28.421875 72.90625 \nL 38.28125 72.90625 \nL 38.28125 8.296875 \nL 54.390625 8.296875 \nL 54.390625 0 \nL 12.40625 0 \nz\n\" id=\"DejaVuSans-49\"/>\n      </defs>\n      <use xlink:href=\"#DejaVuSans-49\"/>\n     </g>\n    </g>\n   </g>\n   <g id=\"text_3\">\n    <g clip-path=\"url(#pd09d8921e1)\">\n     <!-- 2 -->\n     <g style=\"opacity:0.8;\" transform=\"translate(206.855906 20.394886)scale(0.12 -0.12)\">\n      <defs>\n       <path d=\"M 19.1875 8.296875 \nL 53.609375 8.296875 \nL 53.609375 0 \nL 7.328125 0 \nL 7.328125 8.296875 \nQ 12.9375 14.109375 22.625 23.890625 \nQ 32.328125 33.6875 34.8125 36.53125 \nQ 39.546875 41.84375 41.421875 45.53125 \nQ 43.3125 49.21875 43.3125 52.78125 \nQ 43.3125 58.59375 39.234375 62.25 \nQ 35.15625 65.921875 28.609375 65.921875 \nQ 23.96875 65.921875 18.8125 64.3125 \nQ 13.671875 62.703125 7.8125 59.421875 \nL 7.8125 69.390625 \nQ 13.765625 71.78125 18.9375 73 \nQ 24.125 74.21875 28.421875 74.21875 \nQ 39.75 74.21875 46.484375 68.546875 \nQ 53.21875 62.890625 53.21875 53.421875 \nQ 53.21875 48.921875 51.53125 44.890625 \nQ 49.859375 40.875 45.40625 35.40625 \nQ 44.1875 33.984375 37.640625 27.21875 \nQ 31.109375 20.453125 19.1875 8.296875 \nz\n\" id=\"DejaVuSans-50\"/>\n      </defs>\n      <use xlink:href=\"#DejaVuSans-50\"/>\n     </g>\n    </g>\n   </g>\n   <g id=\"text_4\">\n    <g clip-path=\"url(#pd09d8921e1)\">\n     <!-- 3 -->\n     <g style=\"opacity:0.8;\" transform=\"translate(183.126542 142.712453)scale(0.12 -0.12)\">\n      <defs>\n       <path d=\"M 40.578125 39.3125 \nQ 47.65625 37.796875 51.625 33 \nQ 55.609375 28.21875 55.609375 21.1875 \nQ 55.609375 10.40625 48.1875 4.484375 \nQ 40.765625 -1.421875 27.09375 -1.421875 \nQ 22.515625 -1.421875 17.65625 -0.515625 \nQ 12.796875 0.390625 7.625 2.203125 \nL 7.625 11.71875 \nQ 11.71875 9.328125 16.59375 8.109375 \nQ 21.484375 6.890625 26.8125 6.890625 \nQ 36.078125 6.890625 40.9375 10.546875 \nQ 45.796875 14.203125 45.796875 21.1875 \nQ 45.796875 27.640625 41.28125 31.265625 \nQ 36.765625 34.90625 28.71875 34.90625 \nL 20.21875 34.90625 \nL 20.21875 43.015625 \nL 29.109375 43.015625 \nQ 36.375 43.015625 40.234375 45.921875 \nQ 44.09375 48.828125 44.09375 54.296875 \nQ 44.09375 59.90625 40.109375 62.90625 \nQ 36.140625 65.921875 28.71875 65.921875 \nQ 24.65625 65.921875 20.015625 65.03125 \nQ 15.375 64.15625 9.8125 62.3125 \nL 9.8125 71.09375 \nQ 15.4375 72.65625 20.34375 73.4375 \nQ 25.25 74.21875 29.59375 74.21875 \nQ 40.828125 74.21875 47.359375 69.109375 \nQ 53.90625 64.015625 53.90625 55.328125 \nQ 53.90625 49.265625 50.4375 45.09375 \nQ 46.96875 40.921875 40.578125 39.3125 \nz\n\" id=\"DejaVuSans-51\"/>\n      </defs>\n      <use xlink:href=\"#DejaVuSans-51\"/>\n     </g>\n    </g>\n   </g>\n  </g>\n </g>\n <defs>\n  <clipPath id=\"pd09d8921e1\">\n   <rect height=\"217.44\" width=\"334.8\" x=\"7.2\" y=\"7.2\"/>\n  </clipPath>\n </defs>\n</svg>\n",
      "image/png": "[encoded data removed]"
     },
     "metadata": {}
    }
   ],
   "source": [
    "qmine.plot_mine_graph('g')"
   ]
  },
  {
   "cell_type": "code",
   "execution_count": 4,
   "metadata": {},
   "outputs": [
    {
     "output_type": "stream",
     "name": "stdout",
     "text": [
      "4.0 * IIII\n- 5.0 * ZIII\n+ 3.0 * IZII\n- 2.5 * ZZII\n+ 4.0 * IIZI\n- 2.5 * ZIZI\n+ 1.5 * IIIZ\n- 2.5 * ZIIZ\n"
     ]
    }
   ],
   "source": [
    "print(qmine.gen_Hamiltonian(penalty=10.))"
   ]
  },
  {
   "source": [
    "## Pseudoflow"
   ],
   "cell_type": "markdown",
   "metadata": {}
  },
  {
   "cell_type": "code",
   "execution_count": 5,
   "metadata": {},
   "outputs": [
    {
     "output_type": "stream",
     "name": "stdout",
     "text": [
      "+---+---+---+---+\n|   | 0 | 1 | 2 |\n+---+---+---+---+\n| 0 | 1 | 1 | 1 |\n| 1 | x | 1 | x |\n+---+---+---+---+\nOrderedDict([   ('expected_profit', None),\n                ('expected_violation', None),\n                ('ground_state', None),\n                ('optimal_config', '1111'),\n                ('optimal_config_prob', None)])\n"
     ]
    }
   ],
   "source": [
    "res = qmine.solve(Pseudoflow(), 10.)\n",
    "print(res)"
   ]
  },
  {
   "source": [
    "## ASP"
   ],
   "cell_type": "markdown",
   "metadata": {}
  },
  {
   "cell_type": "code",
   "execution_count": 6,
   "metadata": {},
   "outputs": [
    {
     "output_type": "stream",
     "name": "stdout",
     "text": [
      "OrderedDict([   ('expected_profit', 6.667968749999997),\n                ('expected_violation', 0.03515625),\n                (   'ground_state',\n                    {   '0000': 0.001953125,\n                        '0001': 0.0009765625,\n                        '0010': 0.0048828125,\n                        '0100': 0.0087890625,\n                        '0110': 0.0615234375,\n                        '0111': 0.005859375,\n                        '1000': 0.001953125,\n                        '1010': 0.005859375,\n                        '1100': 0.00390625,\n                        '1101': 0.0263671875,\n                        '1111': 0.8779296875}),\n                ('optimal_config', '1111'),\n                ('optimal_config_prob', 0.8779296875)])\n"
     ]
    }
   ],
   "source": [
    "penalty = 10.0\n",
    "evol_time = 20\n",
    "nsteps = 40\n",
    "\n",
    "algo = ASP(evol_time, nsteps)\n",
    "res = qmine.solve(algo, penalty)\n",
    "print(res)"
   ]
  },
  {
   "cell_type": "code",
   "execution_count": 7,
   "metadata": {},
   "outputs": [],
   "source": [
    "# add a callback function\n",
    "def analysis(circ):\n",
    "    x = get_bitstring_probabilities(circ, algo.quantum_instance)\n",
    "    bitstr, prob = max(x.items(), key=lambda item: item[1])\n",
    "    print(f\"The most probable configuration and the corresponding probability: {bitstr, prob}\")"
   ]
  },
  {
   "cell_type": "code",
   "execution_count": 8,
   "metadata": {},
   "outputs": [
    {
     "output_type": "stream",
     "name": "stdout",
     "text": [
      "The most probable configuration and the corresponding probability: ('0001', 0.0869140625)\n",
      "The most probable configuration and the corresponding probability: ('0110', 0.1357421875)\n",
      "The most probable configuration and the corresponding probability: ('1111', 0.236328125)\n",
      "The most probable configuration and the corresponding probability: ('1111', 0.533203125)\n",
      "The most probable configuration and the corresponding probability: ('1111', 0.861328125)\n",
      "The most probable configuration and the corresponding probability: ('1111', 0.84375)\n",
      "The most probable configuration and the corresponding probability: ('1111', 0.876953125)\n",
      "The most probable configuration and the corresponding probability: ('1111', 0.9111328125)\n",
      "OrderedDict([   ('expected_profit', None),\n",
      "                ('expected_violation', None),\n",
      "                (   'ground_state',\n",
      "                    {   '0000': 0.0009765625,\n",
      "                        '0100': 0.0068359375,\n",
      "                        '0110': 0.0751953125,\n",
      "                        '0111': 0.0048828125,\n",
      "                        '1010': 0.0048828125,\n",
      "                        '1100': 0.00390625,\n",
      "                        '1101': 0.0185546875,\n",
      "                        '1111': 0.884765625}),\n",
      "                ('optimal_config', '1111'),\n",
      "                ('optimal_config_prob', 0.884765625)])\n"
     ]
    }
   ],
   "source": [
    "algo = ASP(evol_time, nsteps, callback=analysis, callback_freq=5)\n",
    "res = qmine.solve(algo, penalty)\n",
    "print(res)"
   ]
  },
  {
   "source": [
    "## QAOA"
   ],
   "cell_type": "markdown",
   "metadata": {}
  },
  {
   "cell_type": "code",
   "execution_count": null,
   "metadata": {},
   "outputs": [],
   "source": [
    "qaoa = QAOASolver(qmine, p=3)"
   ]
  },
  {
   "cell_type": "code",
   "execution_count": null,
   "metadata": {},
   "outputs": [],
   "source": [
    "penalty = 10.0\n",
    "\n",
    "qaoa.solve(penalty)"
   ]
  },
  {
   "source": [
    "## ASP with Projector"
   ],
   "cell_type": "markdown",
   "metadata": {}
  },
  {
   "cell_type": "code",
   "execution_count": 5,
   "metadata": {},
   "outputs": [
    {
     "output_type": "stream",
     "name": "stdout",
     "text": [
      "+---+---+---+---+\n|   | 0 | 1 | 2 |\n+---+---+---+---+\n| 0 | 1 | 1 | 1 |\n| 1 | x | 1 | x |\n+---+---+---+---+\nOrderedDict([   ('expected_profit', 6.382812499999999),\n                ('expected_violation', 0.0),\n                (   'ground_state',\n                    {   '0010': 0.001953125,\n                        '0110': 0.173828125,\n                        '1000': 0.0009765625,\n                        '1001': 0.0009765625,\n                        '1010': 0.0009765625,\n                        '1111': 0.8212890625}),\n                ('optimal_config', '1111'),\n                ('optimal_config_prob', 0.8212890625)])\n"
     ]
    }
   ],
   "source": [
    "evol_time = 10\n",
    "nsteps = 20\n",
    "\n",
    "algo = ASP(evol_time, nsteps)\n",
    "res = qmine.solve(algo)\n",
    "print(res)"
   ]
  },
  {
   "cell_type": "code",
   "execution_count": null,
   "metadata": {},
   "outputs": [],
   "source": []
  }
 ]
}