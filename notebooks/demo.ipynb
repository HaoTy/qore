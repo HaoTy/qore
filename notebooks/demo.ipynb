{
 "metadata": {
  "language_info": {
   "codemirror_mode": {
    "name": "ipython",
    "version": 3
   },
   "file_extension": ".py",
   "mimetype": "text/x-python",
   "name": "python",
   "nbconvert_exporter": "python",
   "pygments_lexer": "ipython3",
   "version": "3.6.6-final"
  },
  "orig_nbformat": 2,
  "kernelspec": {
   "name": "python3",
   "display_name": "Python 3",
   "language": "python"
  }
 },
 "nbformat": 4,
 "nbformat_minor": 2,
 "cells": [
  {
   "cell_type": "code",
   "execution_count": null,
   "metadata": {},
   "outputs": [],
   "source": [
    "import numpy as np\n",
    "from qore import Mine, ASP, QAOA, VQE\n",
    "from qore.utils import measure_operator, get_bitstring_probabilities"
   ]
  },
  {
   "cell_type": "code",
   "execution_count": null,
   "metadata": {},
   "outputs": [],
   "source": [
    "penalty = 10.0\n",
    "qmine = Mine(np.array([[-2., 3., 1.], [float('inf'), 5., float('inf')]]))\n",
    "\n",
    "# penalty = 20.0\n",
    "# qmine = Mine(np.array([[-2., 3., 1., -1.], [float('inf'), 5., 3., float('inf')]]))\n",
    "\n",
    "# penalty = 5.0\n",
    "# qmine = Mine(np.array([[-2.0, 3.0, -1.0, -2.0, -1.0], [float('inf'), 5.0, 3.0, 10.0, float('inf')], [float('inf'), float('inf'), 4.0, float('inf'), float('inf')]]))\n",
    "\n",
    "qmine.plot_mine()"
   ]
  },
  {
   "cell_type": "code",
   "execution_count": null,
   "metadata": {},
   "outputs": [],
   "source": [
    "qmine.graph"
   ]
  },
  {
   "cell_type": "code",
   "execution_count": null,
   "metadata": {},
   "outputs": [],
   "source": [
    "qmine.gen_Hamiltonian(penalty=penalty).to_opflow()"
   ]
  },
  {
   "cell_type": "code",
   "execution_count": null,
   "metadata": {},
   "outputs": [],
   "source": [
    "print(qmine.gen_Hamiltonian(penalty=penalty).to_opflow())"
   ]
  },
  {
   "cell_type": "code",
   "execution_count": null,
   "metadata": {
    "tags": []
   },
   "outputs": [],
   "source": [
    "from qiskit.aqua import aqua_globals, QuantumInstance\n",
    "from qiskit import Aer\n",
    "\n",
    "aqua_globals.random_seed = 1953\n",
    "backend = Aer.get_backend('statevector_simulator')\n",
    "instance = QuantumInstance(backend=backend)\n",
    "\n",
    "def analysis(circuit):\n",
    "    print(\"Average Profit:                          \", measure_operator(qmine.Hp, circuit, instance))\n",
    "    print(\"Average Number of Smoothness Violations: \", measure_operator(qmine.Hs, circuit, instance) / penalty)\n",
    "    x = get_bitstring_probabilities(circuit, instance, shots=1024)\n",
    "    bitstr, prob = max(x.items(), key=lambda item: item[1])\n",
    "    print(f\"The most probable configuration and the corresponding probability: {bitstr, prob}\")\n",
    "    qmine.plot_mine_state(bitstr)\n",
    "    print(\"Current profit:               \", qmine.get_profit(bitstr))\n",
    "    print(\"Current number of violations: \", qmine.get_violation(bitstr))\n",
    "    print(x)\n",
    "    print(\"------------------------------------------------------------\")\n"
   ]
  },
  {
   "cell_type": "code",
   "execution_count": null,
   "metadata": {
    "tags": []
   },
   "outputs": [],
   "source": [
    "evol_time = 20\n",
    "nsteps = 50\n",
    "\n",
    "\n",
    "circuit = ASP(qmine.gen_Hamiltonian(penalty=penalty), \n",
    "    evol_time=evol_time, \n",
    "    nsteps=nsteps, \n",
    "    callback=analysis, \n",
    "    quantum_instance=instance).construct_circuit()\n",
    "\n",
    "analysis(circuit)\n",
    "print(circuit.draw())\n",
    "print(circuit.decompose().draw())"
   ]
  },
  {
   "cell_type": "code",
   "execution_count": null,
   "metadata": {},
   "outputs": [],
   "source": [
    "from qiskit.aqua.components.optimizers import COBYLA\n",
    "\n",
    "p = 5\n",
    "qaoa = QAOA(qmine.gen_Hamiltonian(penalty=penalty), optimizer=COBYLA(), quantum_instance=instance, p=p)\n",
    "qaoa.run()\n",
    "circuit = qaoa.get_optimal_circuit()\n",
    "\n",
    "analysis(circuit)\n",
    "print(circuit.draw())\n",
    "print(circuit.decompose().draw())"
   ]
  },
  {
   "cell_type": "code",
   "execution_count": null,
   "metadata": {},
   "outputs": [],
   "source": []
  }
 ]
}