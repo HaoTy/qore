{
 "metadata": {
  "language_info": {
   "codemirror_mode": {
    "name": "ipython",
    "version": 3
   },
   "file_extension": ".py",
   "mimetype": "text/x-python",
   "name": "python",
   "nbconvert_exporter": "python",
   "pygments_lexer": "ipython3",
   "version": "3.9.1"
  },
  "orig_nbformat": 2,
  "kernelspec": {
   "name": "python391jvsc74a57bd01c98fc4fe92390271d15ae28cc783178c5efb4069f3af669a34a587febea39ec",
   "display_name": "Python 3.9.1 64-bit ('qiskit': conda)"
  }
 },
 "nbformat": 4,
 "nbformat_minor": 2,
 "cells": [
  {
   "cell_type": "code",
   "execution_count": 2,
   "metadata": {},
   "outputs": [],
   "source": [
    "import numpy as np\n",
    "from qore import Mine, ASP, QAOA, VQE\n",
    "from qore.algorithms.pseudoflow import Pseudoflow\n",
    "from qore.utils import measure_operator, get_bitstring_probabilities"
   ]
  },
  {
   "cell_type": "code",
   "execution_count": 18,
   "metadata": {},
   "outputs": [
    {
     "output_type": "stream",
     "name": "stdout",
     "text": [
      "+---+--------+-------+-------+\n|   |   0    |   1   |   2   |\n+---+--------+-------+-------+\n| 0 | -2.000 | 3.000 | 1.000 |\n| 1 |  inf   | 5.000 |  inf  |\n+---+--------+-------+-------+\n"
     ]
    }
   ],
   "source": [
    "penalty = 10.0\n",
    "qmine = Mine(np.array([[-2., 3., 1.], [float('inf'), 5., float('inf')]]))\n",
    "qmine.plot_mine()"
   ]
  },
  {
   "cell_type": "code",
   "execution_count": 19,
   "metadata": {},
   "outputs": [],
   "source": [
    "graph, source, sink = qmine.gen_pseudoflow_graph()"
   ]
  },
  {
   "cell_type": "code",
   "execution_count": 20,
   "metadata": {},
   "outputs": [],
   "source": [
    "pf = Pseudoflow(graph, source, sink)"
   ]
  },
  {
   "cell_type": "code",
   "execution_count": 21,
   "metadata": {},
   "outputs": [
    {
     "output_type": "execute_result",
     "data": {
      "text/plain": [
       "{'ground_state': '1111'}"
      ]
     },
     "metadata": {},
     "execution_count": 21
    }
   ],
   "source": [
    "pf.run()"
   ]
  },
  {
   "cell_type": "code",
   "execution_count": 22,
   "metadata": {},
   "outputs": [],
   "source": [
    "from qiskit.aqua import aqua_globals, QuantumInstance\n",
    "from qiskit import Aer"
   ]
  },
  {
   "cell_type": "code",
   "execution_count": 23,
   "metadata": {},
   "outputs": [],
   "source": [
    "aqua_globals.random_seed = 1953\n",
    "backend = Aer.get_backend('statevector_simulator')\n",
    "instance = QuantumInstance(backend=backend)"
   ]
  },
  {
   "cell_type": "code",
   "execution_count": 24,
   "metadata": {},
   "outputs": [],
   "source": [
    "def analysis(circuit):\n",
    "    print(\"Average Profit:                          \", measure_operator(qmine.Hp, circuit, instance))\n",
    "    print(\"Average Number of Smoothness Violations: \", measure_operator(qmine.Hs, circuit, instance) / penalty)\n",
    "    x = get_bitstring_probabilities(circuit, instance, shots=1024)\n",
    "    bitstr, prob = max(x.items(), key=lambda item: item[1])\n",
    "    print(f\"The most probable configuration and the corresponding probability: {bitstr, prob}\")\n",
    "    qmine.plot_mine_state(bitstr)\n",
    "    print(\"Current profit:               \", qmine.get_profit(bitstr))\n",
    "    print(\"Current number of violations: \", qmine.get_violation(bitstr))\n",
    "    print(x)\n",
    "    print(\"------------------------------------------------------------\")"
   ]
  },
  {
   "cell_type": "code",
   "execution_count": 27,
   "metadata": {},
   "outputs": [
    {
     "output_type": "stream",
     "name": "stdout",
     "text": [
      "Average Profit:                           6.280709518980992\nAverage Number of Smoothness Violations:  0.003650767433431429\nThe most probable configuration and the corresponding probability: ('1111', 0.8642578125)\n+---+---+---+---+\n|   | 0 | 1 | 2 |\n+---+---+---+---+\n| 0 | 1 | 1 | 1 |\n| 1 | x | 1 | x |\n+---+---+---+---+\nCurrent profit:                7.0\nCurrent number of violations:  0\n{'0000': 0.001953125, '0001': 0.00390625, '0010': 0.0009765625, '0011': 0.0361328125, '0100': 0.0048828125, '0101': 0.0302734375, '0110': 0.017578125, '0111': 0.015625, '1000': 0.001953125, '1001': 0.0048828125, '1010': 0.0048828125, '1011': 0.0029296875, '1100': 0.00390625, '1110': 0.005859375, '1111': 0.8642578125}\n------------------------------------------------------------\n"
     ]
    }
   ],
   "source": [
    "#from qiskit.aqua.algorithms import QAOA, VQE\n",
    "from qiskit.aqua.components.optimizers import COBYLA\n",
    "\n",
    "p = 6\n",
    "qaoa = QAOA(qmine.gen_Hamiltonian(penalty=penalty), optimizer=COBYLA(), quantum_instance=instance, p=p)\n",
    "qaoa.run()\n",
    "circuit = qaoa.get_optimal_circuit()\n",
    "\n",
    "analysis(circuit)\n",
    "# print(circuit.draw())\n",
    "# print(circuit.decompose().draw())"
   ]
  },
  {
   "cell_type": "code",
   "execution_count": 28,
   "metadata": {},
   "outputs": [
    {
     "output_type": "stream",
     "name": "stdout",
     "text": [
      "Average Profit:                           3.090726295778179\nAverage Number of Smoothness Violations:  0.0026760071821298357\nThe most probable configuration and the corresponding probability: ('0010', 0.484375)\n+---+---+---+---+\n|   | 0 | 1 | 2 |\n+---+---+---+---+\n| 0 | 0 | 1 | 0 |\n| 1 | x | 0 | x |\n+---+---+---+---+\nCurrent profit:                3.0\nCurrent number of violations:  0\n{'0000': 0.0771484375, '0010': 0.484375, '0011': 0.00390625, '0100': 0.060546875, '0110': 0.3603515625, '1000': 0.001953125, '1001': 0.0009765625, '1011': 0.0048828125, '1100': 0.001953125, '1101': 0.0009765625, '1110': 0.0029296875}\n------------------------------------------------------------\n"
     ]
    }
   ],
   "source": [
    "p = 4\n",
    "\n",
    "QAOA(qmine.gen_Hamiltonian(penalty=penalty), optimizer=COBYLA(), quantum_instance=instance, p=p).run()\n",
    "\n",
    "qaoa = QAOA(qmine.gen_Hamiltonian(penalty=penalty), optimizer=COBYLA(), quantum_instance=instance, p=p)\n",
    "qaoa.run()\n",
    "circuit = qaoa.get_optimal_circuit()\n",
    "\n",
    "analysis(circuit)"
   ]
  },
  {
   "cell_type": "code",
   "execution_count": null,
   "metadata": {},
   "outputs": [],
   "source": []
  }
 ]
}