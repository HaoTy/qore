{
 "metadata": {
  "language_info": {
   "codemirror_mode": {
    "name": "ipython",
    "version": 3
   },
   "file_extension": ".py",
   "mimetype": "text/x-python",
   "name": "python",
   "nbconvert_exporter": "python",
   "pygments_lexer": "ipython3",
   "version": "3.9.1"
  },
  "orig_nbformat": 2,
  "kernelspec": {
   "name": "python391jvsc74a57bd01c98fc4fe92390271d15ae28cc783178c5efb4069f3af669a34a587febea39ec",
   "display_name": "Python 3.9.1 64-bit ('qiskit': conda)"
  }
 },
 "nbformat": 4,
 "nbformat_minor": 2,
 "cells": [
  {
   "cell_type": "code",
   "execution_count": 1,
   "metadata": {},
   "outputs": [],
   "source": [
    "import numpy as np\n",
    "from qore import Mine, SubMine, ASP, QAOA, VQE, Pseudoflow, FragmentationSolver"
   ]
  },
  {
   "cell_type": "code",
   "execution_count": 2,
   "metadata": {},
   "outputs": [
    {
     "output_type": "stream",
     "name": "stdout",
     "text": [
      "+---+--------+-------+--------+--------+\n|   |   0    |   1   |   2    |   3    |\n+---+--------+-------+--------+--------+\n| 0 | 0.500  | 1.500 | -0.500 | -0.500 |\n| 1 | -0.500 | 2.500 | 2.500  | -0.500 |\n| 2 | -3.000 | 2.000 | 3.000  | -1.000 |\n| 3 | 1.000  | 1.000 | 0.500  | 4.000  |\n+---+--------+-------+--------+--------+\n"
     ]
    }
   ],
   "source": [
    "qmine = Mine('mine_config_real.txt')\n",
    "qmine.plot_mine()"
   ]
  },
  {
   "cell_type": "code",
   "execution_count": 3,
   "metadata": {},
   "outputs": [
    {
     "output_type": "stream",
     "name": "stdout",
     "text": [
      "OrderedDict([   ('expected_profit', None),\n                ('expected_violation', None),\n                ('ground_state', None),\n                ('optimal_config', '1100111011111111'),\n                ('optimal_config_prob', None)])\n"
     ]
    }
   ],
   "source": [
    "res = qmine.solve(Pseudoflow(), 10.)\n",
    "print(res)"
   ]
  },
  {
   "cell_type": "code",
   "execution_count": 4,
   "metadata": {},
   "outputs": [
    {
     "output_type": "stream",
     "name": "stdout",
     "text": [
      "+---+---+---+---+---+\n|   | 0 | 1 | 2 | 3 |\n+---+---+---+---+---+\n| 0 | 1 | 1 | 1 | 1 |\n| 1 | 1 | 1 | 1 | 1 |\n| 2 | 0 | 1 | 1 | 1 |\n| 3 | 0 | 0 | 1 | 1 |\n+---+---+---+---+---+\n"
     ]
    }
   ],
   "source": [
    "qmine.plot_mine_state(res.optimal_config)"
   ]
  },
  {
   "cell_type": "code",
   "execution_count": 5,
   "metadata": {},
   "outputs": [],
   "source": [
    "nodes = np.arange(24)\n",
    "nodes = nodes.reshape((4, 6))"
   ]
  },
  {
   "cell_type": "code",
   "execution_count": 6,
   "metadata": {},
   "outputs": [],
   "source": [
    "node_lists = []\n",
    "for i in range(1, 3):\n",
    "    for j in range(1, 3):\n",
    "        node_list = nodes[2*(i-1):2*i, 3*(j-1):3*j]\n",
    "        node_list = list(np.reshape(node_list, 6))\n",
    "        node_lists.append(node_list)"
   ]
  },
  {
   "cell_type": "code",
   "execution_count": 7,
   "metadata": {},
   "outputs": [],
   "source": [
    "node_lists = [list(range(4*i, 4*(i+1))) for i in range(4)]"
   ]
  },
  {
   "cell_type": "code",
   "execution_count": 8,
   "metadata": {},
   "outputs": [
    {
     "output_type": "execute_result",
     "data": {
      "text/plain": [
       "[[0, 1, 2, 3], [4, 5, 6, 7], [8, 9, 10, 11], [12, 13, 14, 15]]"
      ]
     },
     "metadata": {},
     "execution_count": 8
    }
   ],
   "source": [
    "node_lists"
   ]
  },
  {
   "cell_type": "code",
   "execution_count": 9,
   "metadata": {},
   "outputs": [],
   "source": [
    "penalty = 1.5\n",
    "evol_time = 20\n",
    "nsteps = 40\n",
    "\n",
    "algo = ASP(evol_time, nsteps)"
   ]
  },
  {
   "cell_type": "code",
   "execution_count": 10,
   "metadata": {},
   "outputs": [],
   "source": [
    "frag_solver = FragmentationSolver(qmine, node_lists)"
   ]
  },
  {
   "cell_type": "code",
   "execution_count": 11,
   "metadata": {},
   "outputs": [
    {
     "output_type": "stream",
     "name": "stdout",
     "text": [
      "calculating submine 0\n",
      "calculating submine 1\n",
      "calculating submine 2\n",
      "calculating submine 3\n",
      "iteration 1\n",
      "del_e=7.637848377227783\n",
      "---------------------------------------------\n",
      "calculating submine 0\n",
      "calculating submine 1\n",
      "calculating submine 2\n",
      "calculating submine 3\n",
      "iteration 2\n",
      "del_e=0.19834661483764648\n",
      "---------------------------------------------\n",
      "calculating submine 0\n",
      "calculating submine 1\n",
      "calculating submine 2\n",
      "calculating submine 3\n",
      "iteration 3\n",
      "del_e=0.045044898986816406\n",
      "---------------------------------------------\n",
      "calculating submine 0\n",
      "calculating submine 1\n",
      "calculating submine 2\n",
      "calculating submine 3\n",
      "iteration 4\n",
      "del_e=0.02717876434326172\n",
      "---------------------------------------------\n",
      "calculating submine 0\n",
      "calculating submine 1\n",
      "calculating submine 2\n",
      "calculating submine 3\n",
      "iteration 5\n",
      "del_e=0.016155242919921875\n",
      "---------------------------------------------\n"
     ]
    }
   ],
   "source": [
    "res = frag_solver.calc(algo, penalty, tol=0.02)"
   ]
  },
  {
   "cell_type": "code",
   "execution_count": 12,
   "metadata": {},
   "outputs": [
    {
     "output_type": "stream",
     "name": "stdout",
     "text": [
      "+---+---+---+---+---+\n|   | 0 | 1 | 2 | 3 |\n+---+---+---+---+---+\n| 0 | 1 | 1 | 1 | 1 |\n| 1 | 1 | 1 | 1 | 1 |\n| 2 | 0 | 1 | 1 | 1 |\n| 3 | 0 | 0 | 1 | 1 |\n+---+---+---+---+---+\n"
     ]
    }
   ],
   "source": [
    "qmine.plot_mine_state(res.optimal_config)"
   ]
  },
  {
   "cell_type": "code",
   "execution_count": null,
   "metadata": {},
   "outputs": [],
   "source": []
  }
 ]
}