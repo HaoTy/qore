{
 "metadata": {
  "language_info": {
   "codemirror_mode": {
    "name": "ipython",
    "version": 3
   },
   "file_extension": ".py",
   "mimetype": "text/x-python",
   "name": "python",
   "nbconvert_exporter": "python",
   "pygments_lexer": "ipython3",
   "version": "3.9.1"
  },
  "orig_nbformat": 2,
  "kernelspec": {
   "name": "python391jvsc74a57bd01c98fc4fe92390271d15ae28cc783178c5efb4069f3af669a34a587febea39ec",
   "display_name": "Python 3.9.1 64-bit ('qiskit': conda)"
  }
 },
 "nbformat": 4,
 "nbformat_minor": 2,
 "cells": [
  {
   "cell_type": "code",
   "execution_count": 1,
   "metadata": {},
   "outputs": [],
   "source": [
    "import numpy as np\n",
    "from qore import Mine, ASP, QAOA, VQE\n",
    "from qore.algorithms.pseudoflow import Pseudoflow\n",
    "from qore.utils import measure_operator, get_bitstring_probabilities"
   ]
  },
  {
   "cell_type": "code",
   "execution_count": 2,
   "metadata": {},
   "outputs": [
    {
     "output_type": "stream",
     "name": "stdout",
     "text": [
      "+---+--------+-------+-------+\n",
      "|   |   0    |   1   |   2   |\n",
      "+---+--------+-------+-------+\n",
      "| 0 | -2.000 | 3.000 | 1.000 |\n",
      "| 1 |  inf   | 5.000 |  inf  |\n",
      "+---+--------+-------+-------+\n",
      "/Users/hxx/.conda/envs/qiskit/lib/python3.9/site-packages/qiskit/quantum_info/operators/symplectic/pauli.py:185: DeprecationWarning: Initializing Pauli from `Pauli(z=z, x=x)` kwargs is deprecated as of version 0.17.0 and will be removed no earlier than 3 months after the release date. Use tuple initialization `Pauli((z, x))` instead.\n",
      "  base_z, base_x, base_phase = self._from_array_deprecated(z, x)\n"
     ]
    }
   ],
   "source": [
    "penalty = 10.0\n",
    "qmine = Mine(np.array([[-2., 3., 1.], [float('inf'), 5., float('inf')]]))\n",
    "qmine.plot_mine()"
   ]
  },
  {
   "cell_type": "code",
   "execution_count": 3,
   "metadata": {},
   "outputs": [],
   "source": [
    "graph, source, sink = qmine.gen_pseudoflow_graph()"
   ]
  },
  {
   "cell_type": "code",
   "execution_count": 4,
   "metadata": {},
   "outputs": [],
   "source": [
    "pf = Pseudoflow(graph, source, sink)"
   ]
  },
  {
   "cell_type": "code",
   "execution_count": 5,
   "metadata": {},
   "outputs": [
    {
     "output_type": "execute_result",
     "data": {
      "text/plain": [
       "{'ground_state': '1111'}"
      ]
     },
     "metadata": {},
     "execution_count": 5
    }
   ],
   "source": [
    "pf.run()"
   ]
  },
  {
   "cell_type": "code",
   "execution_count": 6,
   "metadata": {},
   "outputs": [],
   "source": [
    "from qiskit.aqua import aqua_globals, QuantumInstance\n",
    "from qiskit import Aer"
   ]
  },
  {
   "cell_type": "code",
   "execution_count": 7,
   "metadata": {},
   "outputs": [
    {
     "output_type": "stream",
     "name": "stderr",
     "text": [
      "<ipython-input-7-305a6dd83b3e>:1: DeprecationWarning: The variable qiskit.aqua.aqua_globals is deprecated. It was moved/refactored to qiskit.utils.aqua_globals (pip install qiskit-terra). For more information see <https://github.com/Qiskit/qiskit-aqua/blob/master/README.md#migration-guide>\n  aqua_globals.random_seed = 1953\n/Users/hxx/.conda/envs/qiskit/lib/python3.9/site-packages/qiskit/aqua/quantum_instance.py:135: DeprecationWarning: The class qiskit.aqua.QuantumInstance is deprecated. It was moved/refactored to qiskit.utils.QuantumInstance (pip install qiskit-terra). For more information see <https://github.com/Qiskit/qiskit-aqua/blob/master/README.md#migration-guide>\n  warn_class('aqua.QuantumInstance',\n"
     ]
    }
   ],
   "source": [
    "aqua_globals.random_seed = 1953\n",
    "backend = Aer.get_backend('statevector_simulator')\n",
    "instance = QuantumInstance(backend=backend)"
   ]
  },
  {
   "cell_type": "code",
   "execution_count": 8,
   "metadata": {},
   "outputs": [],
   "source": [
    "def analysis(circuit):\n",
    "    print(\"Average Profit:                          \", measure_operator(qmine.Hp, circuit, instance))\n",
    "    print(\"Average Number of Smoothness Violations: \", measure_operator(qmine.Hs, circuit, instance) / penalty)\n",
    "    x = get_bitstring_probabilities(circuit, instance, shots=1024)\n",
    "    bitstr, prob = max(x.items(), key=lambda item: item[1])\n",
    "    print(f\"The most probable configuration and the corresponding probability: {bitstr, prob}\")\n",
    "    qmine.plot_mine_state(bitstr)\n",
    "    print(\"Current profit:               \", qmine.get_profit(bitstr))\n",
    "    print(\"Current number of violations: \", qmine.get_violation(bitstr))\n",
    "    print(x)\n",
    "    print(\"------------------------------------------------------------\")"
   ]
  },
  {
   "cell_type": "code",
   "execution_count": 9,
   "metadata": {},
   "outputs": [
    {
     "output_type": "stream",
     "name": "stderr",
     "text": [
      "/Users/hxx/.conda/envs/qiskit/lib/python3.9/site-packages/qiskit/aqua/components/optimizers/optimizer.py:49: DeprecationWarning: The package qiskit.aqua.components.optimizers is deprecated. It was moved/refactored to qiskit.algorithms.optimizers (pip install qiskit-terra). For more information see <https://github.com/Qiskit/qiskit-aqua/blob/master/README.md#migration-guide>\n",
      "  warn_package('aqua.components.optimizers',\n",
      "/Users/hxx/.conda/envs/qiskit/lib/python3.9/site-packages/qiskit/aqua/algorithms/vq_algorithm.py:70: DeprecationWarning: The class qiskit.aqua.algorithms.VQAlgorithm is deprecated. It was moved/refactored to qiskit.algorithms.VariationalAlgorithm (pip install qiskit-terra). For more information see <https://github.com/Qiskit/qiskit-aqua/blob/master/README.md#migration-guide>\n",
      "  warn_class('aqua.algorithms.VQAlgorithm',\n",
      "/Users/hxx/.conda/envs/qiskit/lib/python3.9/site-packages/qiskit/aqua/components/variational_forms/variational_form.py:48: DeprecationWarning: The package qiskit.aqua.components.variational_forms is deprecated. For more information see <https://github.com/Qiskit/qiskit-aqua/blob/master/README.md#migration-guide>\n",
      "  warn_package('aqua.components.variational_forms')\n",
      "Average Profit:                           4.500343610183597\n",
      "Average Number of Smoothness Violations:  0.024090753879710138\n",
      "The most probable configuration and the corresponding probability: ('0110', 0.3427734375)\n",
      "+---+---+---+---+\n",
      "|   | 0 | 1 | 2 |\n",
      "+---+---+---+---+\n",
      "| 0 | 0 | 1 | 1 |\n",
      "| 1 | x | 0 | x |\n",
      "+---+---+---+---+\n",
      "Current profit:                4.0\n",
      "Current number of violations:  0\n",
      "{'1001': 0.0009765625, '1000': 0.009765625, '0000': 0.0068359375, '1010': 0.0048828125, '1011': 0.0244140625, '0010': 0.0771484375, '0111': 0.0419921875, '0001': 0.005859375, '0011': 0.013671875, '1101': 0.005859375, '1111': 0.130859375, '1110': 0.15234375, '0100': 0.1201171875, '1100': 0.01171875, '0101': 0.05078125, '0110': 0.3427734375}\n",
      "------------------------------------------------------------\n"
     ]
    }
   ],
   "source": [
    "#from qiskit.aqua.algorithms import QAOA, VQE\n",
    "from qiskit.aqua.components.optimizers import COBYLA\n",
    "\n",
    "p = 4\n",
    "qaoa = QAOA(qmine.gen_Hamiltonian(penalty=penalty), optimizer=COBYLA(), quantum_instance=instance, p=p)\n",
    "qaoa.run()\n",
    "circuit = qaoa.get_optimal_circuit()\n",
    "\n",
    "analysis(circuit)\n",
    "# print(circuit.draw())\n",
    "# print(circuit.decompose().draw())"
   ]
  },
  {
   "cell_type": "code",
   "execution_count": 11,
   "metadata": {},
   "outputs": [
    {
     "output_type": "stream",
     "name": "stdout",
     "text": [
      "Average Profit:                           6.324079217188776\nAverage Number of Smoothness Violations:  0.0011014139604891338\nThe most probable configuration and the corresponding probability: ('1111', 0.8896484375)\n+---+---+---+---+\n|   | 0 | 1 | 2 |\n+---+---+---+---+\n| 0 | 1 | 1 | 1 |\n| 1 | x | 1 | x |\n+---+---+---+---+\nCurrent profit:                7.0\nCurrent number of violations:  0\n{'1101': 0.0048828125, '1001': 0.0009765625, '0011': 0.00390625, '1111': 0.8896484375, '0111': 0.037109375, '0110': 0.0048828125, '0101': 0.05859375}\n------------------------------------------------------------\n"
     ]
    }
   ],
   "source": [
    "p = 4\n",
    "\n",
    "QAOA(qmine.gen_Hamiltonian(penalty=penalty), optimizer=COBYLA(), quantum_instance=instance, p=p).run()\n",
    "\n",
    "qaoa = QAOA(qmine.gen_Hamiltonian(penalty=penalty), optimizer=COBYLA(), quantum_instance=instance, p=p)\n",
    "qaoa.run()\n",
    "circuit = qaoa.get_optimal_circuit()\n",
    "\n",
    "analysis(circuit)"
   ]
  },
  {
   "cell_type": "code",
   "execution_count": 10,
   "metadata": {},
   "outputs": [
    {
     "output_type": "stream",
     "name": "stderr",
     "text": [
      "/Users/hxx/.conda/envs/qiskit/lib/python3.9/site-packages/qiskit/aqua/operators/legacy/weighted_pauli_operator.py:906: DeprecationWarning: The QuantumCircuit.__add__() method is being deprecated.Use the compose() method which is more flexible w.r.t circuit register compatibility.\n",
      "  qc = QuantumCircuit() + state_in\n",
      "/Users/hxx/.conda/envs/qiskit/lib/python3.9/site-packages/qiskit/circuit/quantumcircuit.py:869: DeprecationWarning: The QuantumCircuit.combine() method is being deprecated. Use the compose() method which is more flexible w.r.t circuit register compatibility.\n",
      "  return self.combine(rhs)\n",
      "Average Profit:                           6.753832133010106\n",
      "Average Number of Smoothness Violations:  8.87761596793435e-05\n",
      "The most probable configuration and the corresponding probability: ('1111', 0.921875)\n",
      "+---+---+---+---+\n",
      "|   | 0 | 1 | 2 |\n",
      "+---+---+---+---+\n",
      "| 0 | 1 | 1 | 1 |\n",
      "| 1 | x | 1 | x |\n",
      "+---+---+---+---+\n",
      "Current profit:                7.0\n",
      "Current number of violations:  0\n",
      "{'0100': 0.0009765625, '0111': 0.0087890625, '0010': 0.001953125, '0110': 0.06640625, '1111': 0.921875}\n",
      "------------------------------------------------------------\n"
     ]
    }
   ],
   "source": [
    "evol_time = 20\n",
    "nsteps = 50\n",
    "\n",
    "\n",
    "circuit = ASP(qmine.gen_Hamiltonian(penalty=penalty), \n",
    "    evol_time=evol_time, \n",
    "    nsteps=nsteps, \n",
    "    callback=None, \n",
    "    quantum_instance=instance).construct_circuit()\n",
    "\n",
    "analysis(circuit)"
   ]
  },
  {
   "cell_type": "code",
   "execution_count": null,
   "metadata": {},
   "outputs": [],
   "source": []
  }
 ]
}