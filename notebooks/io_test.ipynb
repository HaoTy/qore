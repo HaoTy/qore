{
 "metadata": {
  "language_info": {
   "codemirror_mode": {
    "name": "ipython",
    "version": 3
   },
   "file_extension": ".py",
   "mimetype": "text/x-python",
   "name": "python",
   "nbconvert_exporter": "python",
   "pygments_lexer": "ipython3",
   "version": "3.9.1"
  },
  "orig_nbformat": 2,
  "kernelspec": {
   "name": "python3",
   "display_name": "Python 3",
   "language": "python"
  }
 },
 "nbformat": 4,
 "nbformat_minor": 2,
 "cells": [
  {
   "cell_type": "code",
   "execution_count": 3,
   "metadata": {},
   "outputs": [],
   "source": [
    "import numpy as np\n",
    "\n",
    "from qiskit import QuantumCircuit, Aer\n",
    "from qiskit.aqua import aqua_globals\n",
    "from qiskit.compiler import transpile\n",
    "\n",
    "from qore.model.mine import Mine\n",
    "from qore.algorithms.asp import *"
   ]
  },
  {
   "cell_type": "code",
   "execution_count": 4,
   "metadata": {},
   "outputs": [],
   "source": [
    "qmine = Mine('mine_config.txt')"
   ]
  },
  {
   "cell_type": "code",
   "execution_count": 5,
   "metadata": {},
   "outputs": [
    {
     "output_type": "stream",
     "name": "stdout",
     "text": [
      "+---+--------+-------+-------+\n|   |   0    |   1   |   2   |\n+---+--------+-------+-------+\n| 0 | -2.000 | 3.000 | 1.000 |\n| 1 |  inf   | 5.000 |  inf  |\n+---+--------+-------+-------+\n"
     ]
    }
   ],
   "source": [
    "qmine.plot_mine()"
   ]
  },
  {
   "cell_type": "code",
   "execution_count": 6,
   "metadata": {},
   "outputs": [],
   "source": [
    "H = qmine.gen_Hamiltonian(15.0)"
   ]
  },
  {
   "cell_type": "code",
   "execution_count": 7,
   "metadata": {},
   "outputs": [],
   "source": [
    "T_list  = [1.0,2.0,5.0,10.0,15.0,20.0]\n",
    "nt_list = [10*x for x in  range(2,21)] \n",
    "results = np.zeros((len(T_list),len(nt_list),2))"
   ]
  },
  {
   "cell_type": "code",
   "execution_count": 8,
   "metadata": {},
   "outputs": [],
   "source": [
    "config = []\n",
    "def construct(tmp):\n",
    "    if len(tmp) == 4:\n",
    "        config.append(''.join(tmp))\n",
    "    else:\n",
    "        construct(tmp+['1'])\n",
    "        construct(tmp+['0'])\n",
    "construct([])"
   ]
  },
  {
   "cell_type": "code",
   "execution_count": 10,
   "metadata": {},
   "outputs": [
    {
     "output_type": "stream",
     "name": "stdout",
     "text": [
      "+---+---+---+---+\n|   | 0 | 1 | 2 |\n+---+---+---+---+\n| 0 | 1 | 1 | 1 |\n| 1 | x | 1 | x |\n+---+---+---+---+\nprofit = 7.0\nviolation = 0.0\n\n+---+---+---+---+\n|   | 0 | 1 | 2 |\n+---+---+---+---+\n| 0 | 1 | 1 | 1 |\n| 1 | x | 0 | x |\n+---+---+---+---+\nprofit = 2.0\nviolation = 3.0\n\n+---+---+---+---+\n|   | 0 | 1 | 2 |\n+---+---+---+---+\n| 0 | 1 | 1 | 0 |\n| 1 | x | 1 | x |\n+---+---+---+---+\nprofit = 6.0\nviolation = 0.0\n\n+---+---+---+---+\n|   | 0 | 1 | 2 |\n+---+---+---+---+\n| 0 | 1 | 1 | 0 |\n| 1 | x | 0 | x |\n+---+---+---+---+\nprofit = 1.0\nviolation = 2.0\n\n+---+---+---+---+\n|   | 0 | 1 | 2 |\n+---+---+---+---+\n| 0 | 1 | 0 | 1 |\n| 1 | x | 1 | x |\n+---+---+---+---+\nprofit = 4.0\nviolation = 0.0\n\n+---+---+---+---+\n|   | 0 | 1 | 2 |\n+---+---+---+---+\n| 0 | 1 | 0 | 1 |\n| 1 | x | 0 | x |\n+---+---+---+---+\nprofit = -1.0\nviolation = 2.0\n\n+---+---+---+---+\n|   | 0 | 1 | 2 |\n+---+---+---+---+\n| 0 | 1 | 0 | 0 |\n| 1 | x | 1 | x |\n+---+---+---+---+\nprofit = 3.0\nviolation = 0.0\n\n+---+---+---+---+\n|   | 0 | 1 | 2 |\n+---+---+---+---+\n| 0 | 1 | 0 | 0 |\n| 1 | x | 0 | x |\n+---+---+---+---+\nprofit = -2.0\nviolation = 1.0\n\n+---+---+---+---+\n|   | 0 | 1 | 2 |\n+---+---+---+---+\n| 0 | 0 | 1 | 1 |\n| 1 | x | 1 | x |\n+---+---+---+---+\nprofit = 9.0\nviolation = 0.0\n\n+---+---+---+---+\n|   | 0 | 1 | 2 |\n+---+---+---+---+\n| 0 | 0 | 1 | 1 |\n| 1 | x | 0 | x |\n+---+---+---+---+\nprofit = 4.0\nviolation = 2.0\n\n+---+---+---+---+\n|   | 0 | 1 | 2 |\n+---+---+---+---+\n| 0 | 0 | 1 | 0 |\n| 1 | x | 1 | x |\n+---+---+---+---+\nprofit = 8.0\nviolation = 0.0\n\n+---+---+---+---+\n|   | 0 | 1 | 2 |\n+---+---+---+---+\n| 0 | 0 | 1 | 0 |\n| 1 | x | 0 | x |\n+---+---+---+---+\nprofit = 3.0\nviolation = 1.0\n\n+---+---+---+---+\n|   | 0 | 1 | 2 |\n+---+---+---+---+\n| 0 | 0 | 0 | 1 |\n| 1 | x | 1 | x |\n+---+---+---+---+\nprofit = 6.0\nviolation = 0.0\n\n+---+---+---+---+\n|   | 0 | 1 | 2 |\n+---+---+---+---+\n| 0 | 0 | 0 | 1 |\n| 1 | x | 0 | x |\n+---+---+---+---+\nprofit = 1.0\nviolation = 1.0\n\n+---+---+---+---+\n|   | 0 | 1 | 2 |\n+---+---+---+---+\n| 0 | 0 | 0 | 0 |\n| 1 | x | 1 | x |\n+---+---+---+---+\nprofit = 5.0\nviolation = 0.0\n\n+---+---+---+---+\n|   | 0 | 1 | 2 |\n+---+---+---+---+\n| 0 | 0 | 0 | 0 |\n| 1 | x | 0 | x |\n+---+---+---+---+\nprofit = 0\nviolation = 0.0\n\n"
     ]
    }
   ],
   "source": [
    "for bitstring in config:\n",
    "    qmine.plot_mine_state(bitstring)\n",
    "    print(f\"profit = {qmine.get_profit(bitstring)}\")\n",
    "    print(f\"violation = {qmine.get_violation(bitstring)}\")\n",
    "    print()"
   ]
  }
 ]
}
