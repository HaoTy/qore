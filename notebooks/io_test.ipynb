{
 "metadata": {
  "language_info": {
   "codemirror_mode": {
    "name": "ipython",
    "version": 3
   },
   "file_extension": ".py",
   "mimetype": "text/x-python",
   "name": "python",
   "nbconvert_exporter": "python",
   "pygments_lexer": "ipython3",
   "version": "3.9.1"
  },
  "orig_nbformat": 2,
  "kernelspec": {
   "name": "python3",
   "display_name": "Python 3.9.1 64-bit ('qiskit': conda)",
   "metadata": {
    "interpreter": {
     "hash": "1c98fc4fe92390271d15ae28cc783178c5efb4069f3af669a34a587febea39ec"
    }
   }
  }
 },
 "nbformat": 4,
 "nbformat_minor": 2,
 "cells": [
  {
   "cell_type": "code",
   "execution_count": 6,
   "metadata": {},
   "outputs": [],
   "source": [
    "import numpy as np\n",
    "\n",
    "from qiskit import QuantumCircuit, Aer\n",
    "from qiskit.aqua import aqua_globals\n",
    "from qiskit.compiler import transpile\n",
    "\n",
    "from qore.model.mine import Mine\n",
    "from qore.algorithms.asp import *"
   ]
  },
  {
   "cell_type": "code",
   "execution_count": 7,
   "metadata": {},
   "outputs": [],
   "source": [
    "qmine = Mine('mine_config.txt')"
   ]
  },
  {
   "cell_type": "code",
   "execution_count": 8,
   "metadata": {},
   "outputs": [
    {
     "output_type": "stream",
     "name": "stdout",
     "text": [
      "+---+--------+-------+-------+\n|   |   0    |   1   |   2   |\n+---+--------+-------+-------+\n| 0 | -2.000 | 3.000 | 1.000 |\n| 1 |  inf   | 5.000 |  inf  |\n+---+--------+-------+-------+\n"
     ]
    }
   ],
   "source": [
    "qmine.plot_mine()"
   ]
  },
  {
   "cell_type": "code",
   "execution_count": 9,
   "metadata": {},
   "outputs": [
    {
     "output_type": "display_data",
     "data": {
      "text/plain": "<Figure size 432x288 with 1 Axes>",
      "image/svg+xml": "<?xml version=\"1.0\" encoding=\"utf-8\" standalone=\"no\"?>\n<!DOCTYPE svg PUBLIC \"-//W3C//DTD SVG 1.1//EN\"\n  \"http://www.w3.org/Graphics/SVG/1.1/DTD/svg11.dtd\">\n<!-- Created with matplotlib (https://matplotlib.org/) -->\n<svg height=\"231.84pt\" version=\"1.1\" viewBox=\"0 0 349.2 231.84\" width=\"349.2pt\" xmlns=\"http://www.w3.org/2000/svg\" xmlns:xlink=\"http://www.w3.org/1999/xlink\">\n <metadata>\n  <rdf:RDF xmlns:cc=\"http://creativecommons.org/ns#\" xmlns:dc=\"http://purl.org/dc/elements/1.1/\" xmlns:rdf=\"http://www.w3.org/1999/02/22-rdf-syntax-ns#\">\n   <cc:Work>\n    <dc:type rdf:resource=\"http://purl.org/dc/dcmitype/StillImage\"/>\n    <dc:date>2021-03-18T13:12:04.246544</dc:date>\n    <dc:format>image/svg+xml</dc:format>\n    <dc:creator>\n     <cc:Agent>\n      <dc:title>Matplotlib v3.3.4, https://matplotlib.org/</dc:title>\n     </cc:Agent>\n    </dc:creator>\n   </cc:Work>\n  </rdf:RDF>\n </metadata>\n <defs>\n  <style type=\"text/css\">*{stroke-linecap:butt;stroke-linejoin:round;}</style>\n </defs>\n <g id=\"figure_1\">\n  <g id=\"patch_1\">\n   <path d=\"M 0 231.84 \nL 349.2 231.84 \nL 349.2 0 \nL 0 0 \nz\n\" style=\"fill:none;\"/>\n  </g>\n  <g id=\"axes_1\">\n   <g id=\"patch_2\">\n    <path d=\"M 7.2 224.64 \nL 342 224.64 \nL 342 7.2 \nL 7.2 7.2 \nz\n\" style=\"fill:#ffffff;\"/>\n   </g>\n   <g id=\"LineCollection_1\">\n    <path clip-path=\"url(#p85be5b7809)\" d=\"M 271.266097 17.083636 \nL 206.821126 125.838584 \n\" style=\"fill:none;stroke:#000000;stroke-opacity:0.8;\"/>\n    <path clip-path=\"url(#p85be5b7809)\" d=\"M 22.418182 145.914245 \nL 206.821126 125.838584 \n\" style=\"fill:none;stroke:#000000;stroke-opacity:0.8;\"/>\n    <path clip-path=\"url(#p85be5b7809)\" d=\"M 326.781818 214.756364 \nL 206.821126 125.838584 \n\" style=\"fill:none;stroke:#000000;stroke-opacity:0.8;\"/>\n   </g>\n   <g id=\"matplotlib.axis_1\">\n    <g id=\"xtick_1\"/>\n    <g id=\"xtick_2\"/>\n    <g id=\"xtick_3\"/>\n    <g id=\"xtick_4\"/>\n    <g id=\"xtick_5\"/>\n    <g id=\"xtick_6\"/>\n    <g id=\"xtick_7\"/>\n   </g>\n   <g id=\"matplotlib.axis_2\">\n    <g id=\"ytick_1\"/>\n    <g id=\"ytick_2\"/>\n    <g id=\"ytick_3\"/>\n    <g id=\"ytick_4\"/>\n    <g id=\"ytick_5\"/>\n    <g id=\"ytick_6\"/>\n    <g id=\"ytick_7\"/>\n    <g id=\"ytick_8\"/>\n   </g>\n   <g id=\"PathCollection_1\">\n    <defs>\n     <path d=\"M 0 12.247449 \nC 3.248061 12.247449 6.363528 10.95698 8.660254 8.660254 \nC 10.95698 6.363528 12.247449 3.248061 12.247449 -0 \nC 12.247449 -3.248061 10.95698 -6.363528 8.660254 -8.660254 \nC 6.363528 -10.95698 3.248061 -12.247449 0 -12.247449 \nC -3.248061 -12.247449 -6.363528 -10.95698 -8.660254 -8.660254 \nC -10.95698 -6.363528 -12.247449 -3.248061 -12.247449 0 \nC -12.247449 3.248061 -10.95698 6.363528 -8.660254 8.660254 \nC -6.363528 10.95698 -3.248061 12.247449 0 12.247449 \nz\n\" id=\"C0_0_6c38a3b8a7\"/>\n    </defs>\n    <g clip-path=\"url(#p85be5b7809)\">\n     <use style=\"fill:#008000;fill-opacity:0.8;stroke:#008000;stroke-opacity:0.8;\" x=\"271.266097\" xlink:href=\"#C0_0_6c38a3b8a7\" y=\"17.083636\"/>\n    </g>\n    <g clip-path=\"url(#p85be5b7809)\">\n     <use style=\"fill:#008000;fill-opacity:0.8;stroke:#008000;stroke-opacity:0.8;\" x=\"22.418182\" xlink:href=\"#C0_0_6c38a3b8a7\" y=\"145.914245\"/>\n    </g>\n    <g clip-path=\"url(#p85be5b7809)\">\n     <use style=\"fill:#008000;fill-opacity:0.8;stroke:#008000;stroke-opacity:0.8;\" x=\"326.781818\" xlink:href=\"#C0_0_6c38a3b8a7\" y=\"214.756364\"/>\n    </g>\n    <g clip-path=\"url(#p85be5b7809)\">\n     <use style=\"fill:#008000;fill-opacity:0.8;stroke:#008000;stroke-opacity:0.8;\" x=\"206.821126\" xlink:href=\"#C0_0_6c38a3b8a7\" y=\"125.838584\"/>\n    </g>\n   </g>\n   <g id=\"patch_3\">\n    <path d=\"M 7.2 224.64 \nL 7.2 7.2 \n\" style=\"fill:none;stroke:#000000;stroke-linecap:square;stroke-linejoin:miter;stroke-width:0.8;\"/>\n   </g>\n   <g id=\"patch_4\">\n    <path d=\"M 342 224.64 \nL 342 7.2 \n\" style=\"fill:none;stroke:#000000;stroke-linecap:square;stroke-linejoin:miter;stroke-width:0.8;\"/>\n   </g>\n   <g id=\"patch_5\">\n    <path d=\"M 7.2 224.64 \nL 342 224.64 \n\" style=\"fill:none;stroke:#000000;stroke-linecap:square;stroke-linejoin:miter;stroke-width:0.8;\"/>\n   </g>\n   <g id=\"patch_6\">\n    <path d=\"M 7.2 7.2 \nL 342 7.2 \n\" style=\"fill:none;stroke:#000000;stroke-linecap:square;stroke-linejoin:miter;stroke-width:0.8;\"/>\n   </g>\n   <g id=\"text_1\">\n    <g clip-path=\"url(#p85be5b7809)\">\n     <!-- 0 -->\n     <g style=\"opacity:0.8;\" transform=\"translate(267.448597 20.394886)scale(0.12 -0.12)\">\n      <defs>\n       <path d=\"M 31.78125 66.40625 \nQ 24.171875 66.40625 20.328125 58.90625 \nQ 16.5 51.421875 16.5 36.375 \nQ 16.5 21.390625 20.328125 13.890625 \nQ 24.171875 6.390625 31.78125 6.390625 \nQ 39.453125 6.390625 43.28125 13.890625 \nQ 47.125 21.390625 47.125 36.375 \nQ 47.125 51.421875 43.28125 58.90625 \nQ 39.453125 66.40625 31.78125 66.40625 \nz\nM 31.78125 74.21875 \nQ 44.046875 74.21875 50.515625 64.515625 \nQ 56.984375 54.828125 56.984375 36.375 \nQ 56.984375 17.96875 50.515625 8.265625 \nQ 44.046875 -1.421875 31.78125 -1.421875 \nQ 19.53125 -1.421875 13.0625 8.265625 \nQ 6.59375 17.96875 6.59375 36.375 \nQ 6.59375 54.828125 13.0625 64.515625 \nQ 19.53125 74.21875 31.78125 74.21875 \nz\n\" id=\"DejaVuSans-48\"/>\n      </defs>\n      <use xlink:href=\"#DejaVuSans-48\"/>\n     </g>\n    </g>\n   </g>\n   <g id=\"text_2\">\n    <g clip-path=\"url(#p85be5b7809)\">\n     <!-- 1 -->\n     <g style=\"opacity:0.8;\" transform=\"translate(18.600682 149.225495)scale(0.12 -0.12)\">\n      <defs>\n       <path d=\"M 12.40625 8.296875 \nL 28.515625 8.296875 \nL 28.515625 63.921875 \nL 10.984375 60.40625 \nL 10.984375 69.390625 \nL 28.421875 72.90625 \nL 38.28125 72.90625 \nL 38.28125 8.296875 \nL 54.390625 8.296875 \nL 54.390625 0 \nL 12.40625 0 \nz\n\" id=\"DejaVuSans-49\"/>\n      </defs>\n      <use xlink:href=\"#DejaVuSans-49\"/>\n     </g>\n    </g>\n   </g>\n   <g id=\"text_3\">\n    <g clip-path=\"url(#p85be5b7809)\">\n     <!-- 2 -->\n     <g style=\"opacity:0.8;\" transform=\"translate(322.964318 218.067614)scale(0.12 -0.12)\">\n      <defs>\n       <path d=\"M 19.1875 8.296875 \nL 53.609375 8.296875 \nL 53.609375 0 \nL 7.328125 0 \nL 7.328125 8.296875 \nQ 12.9375 14.109375 22.625 23.890625 \nQ 32.328125 33.6875 34.8125 36.53125 \nQ 39.546875 41.84375 41.421875 45.53125 \nQ 43.3125 49.21875 43.3125 52.78125 \nQ 43.3125 58.59375 39.234375 62.25 \nQ 35.15625 65.921875 28.609375 65.921875 \nQ 23.96875 65.921875 18.8125 64.3125 \nQ 13.671875 62.703125 7.8125 59.421875 \nL 7.8125 69.390625 \nQ 13.765625 71.78125 18.9375 73 \nQ 24.125 74.21875 28.421875 74.21875 \nQ 39.75 74.21875 46.484375 68.546875 \nQ 53.21875 62.890625 53.21875 53.421875 \nQ 53.21875 48.921875 51.53125 44.890625 \nQ 49.859375 40.875 45.40625 35.40625 \nQ 44.1875 33.984375 37.640625 27.21875 \nQ 31.109375 20.453125 19.1875 8.296875 \nz\n\" id=\"DejaVuSans-50\"/>\n      </defs>\n      <use xlink:href=\"#DejaVuSans-50\"/>\n     </g>\n    </g>\n   </g>\n   <g id=\"text_4\">\n    <g clip-path=\"url(#p85be5b7809)\">\n     <!-- 3 -->\n     <g style=\"opacity:0.8;\" transform=\"translate(203.003626 129.149834)scale(0.12 -0.12)\">\n      <defs>\n       <path d=\"M 40.578125 39.3125 \nQ 47.65625 37.796875 51.625 33 \nQ 55.609375 28.21875 55.609375 21.1875 \nQ 55.609375 10.40625 48.1875 4.484375 \nQ 40.765625 -1.421875 27.09375 -1.421875 \nQ 22.515625 -1.421875 17.65625 -0.515625 \nQ 12.796875 0.390625 7.625 2.203125 \nL 7.625 11.71875 \nQ 11.71875 9.328125 16.59375 8.109375 \nQ 21.484375 6.890625 26.8125 6.890625 \nQ 36.078125 6.890625 40.9375 10.546875 \nQ 45.796875 14.203125 45.796875 21.1875 \nQ 45.796875 27.640625 41.28125 31.265625 \nQ 36.765625 34.90625 28.71875 34.90625 \nL 20.21875 34.90625 \nL 20.21875 43.015625 \nL 29.109375 43.015625 \nQ 36.375 43.015625 40.234375 45.921875 \nQ 44.09375 48.828125 44.09375 54.296875 \nQ 44.09375 59.90625 40.109375 62.90625 \nQ 36.140625 65.921875 28.71875 65.921875 \nQ 24.65625 65.921875 20.015625 65.03125 \nQ 15.375 64.15625 9.8125 62.3125 \nL 9.8125 71.09375 \nQ 15.4375 72.65625 20.34375 73.4375 \nQ 25.25 74.21875 29.59375 74.21875 \nQ 40.828125 74.21875 47.359375 69.109375 \nQ 53.90625 64.015625 53.90625 55.328125 \nQ 53.90625 49.265625 50.4375 45.09375 \nQ 46.96875 40.921875 40.578125 39.3125 \nz\n\" id=\"DejaVuSans-51\"/>\n      </defs>\n      <use xlink:href=\"#DejaVuSans-51\"/>\n     </g>\n    </g>\n   </g>\n  </g>\n </g>\n <defs>\n  <clipPath id=\"p85be5b7809\">\n   <rect height=\"217.44\" width=\"334.8\" x=\"7.2\" y=\"7.2\"/>\n  </clipPath>\n </defs>\n</svg>\n",
      "image/png": "[encoded data removed]"
     },
     "metadata": {}
    }
   ],
   "source": [
    "qmine.plot_mine_graph(color='g')"
   ]
  },
  {
   "cell_type": "code",
   "execution_count": 4,
   "metadata": {},
   "outputs": [],
   "source": [
    "H = qmine.gen_Hamiltonian(15.0)"
   ]
  },
  {
   "cell_type": "code",
   "execution_count": 5,
   "metadata": {},
   "outputs": [],
   "source": [
    "T_list  = [1.0,2.0,5.0,10.0,15.0,20.0]\n",
    "nt_list = [10*x for x in  range(2,21)] \n",
    "results = np.zeros((len(T_list),len(nt_list),2))"
   ]
  },
  {
   "cell_type": "code",
   "execution_count": 6,
   "metadata": {},
   "outputs": [],
   "source": [
    "config = []\n",
    "def construct(tmp):\n",
    "    if len(tmp) == 4:\n",
    "        config.append(''.join(tmp))\n",
    "    else:\n",
    "        construct(tmp+['1'])\n",
    "        construct(tmp+['0'])\n",
    "construct([])"
   ]
  },
  {
   "cell_type": "code",
   "execution_count": 7,
   "metadata": {},
   "outputs": [
    {
     "output_type": "stream",
     "name": "stdout",
     "text": [
      "+---+---+---+---+\n|   | 0 | 1 | 2 |\n+---+---+---+---+\n| 0 | 1 | 1 | 1 |\n| 1 | x | 1 | x |\n+---+---+---+---+\nprofit = 7.0\nviolation = 0.0\n\n+---+---+---+---+\n|   | 0 | 1 | 2 |\n+---+---+---+---+\n| 0 | 1 | 1 | 1 |\n| 1 | x | 0 | x |\n+---+---+---+---+\nprofit = 2.0\nviolation = 0.0\n\n+---+---+---+---+\n|   | 0 | 1 | 2 |\n+---+---+---+---+\n| 0 | 1 | 1 | 0 |\n| 1 | x | 1 | x |\n+---+---+---+---+\nprofit = 6.0\nviolation = 1.0\n\n+---+---+---+---+\n|   | 0 | 1 | 2 |\n+---+---+---+---+\n| 0 | 1 | 1 | 0 |\n| 1 | x | 0 | x |\n+---+---+---+---+\nprofit = 1.0\nviolation = 0.0\n\n+---+---+---+---+\n|   | 0 | 1 | 2 |\n+---+---+---+---+\n| 0 | 1 | 0 | 1 |\n| 1 | x | 1 | x |\n+---+---+---+---+\nprofit = 4.0\nviolation = 1.0\n\n+---+---+---+---+\n|   | 0 | 1 | 2 |\n+---+---+---+---+\n| 0 | 1 | 0 | 1 |\n| 1 | x | 0 | x |\n+---+---+---+---+\nprofit = -1.0\nviolation = 0.0\n\n+---+---+---+---+\n|   | 0 | 1 | 2 |\n+---+---+---+---+\n| 0 | 1 | 0 | 0 |\n| 1 | x | 1 | x |\n+---+---+---+---+\nprofit = 3.0\nviolation = 2.0\n\n+---+---+---+---+\n|   | 0 | 1 | 2 |\n+---+---+---+---+\n| 0 | 1 | 0 | 0 |\n| 1 | x | 0 | x |\n+---+---+---+---+\nprofit = -2.0\nviolation = 0.0\n\n+---+---+---+---+\n|   | 0 | 1 | 2 |\n+---+---+---+---+\n| 0 | 0 | 1 | 1 |\n| 1 | x | 1 | x |\n+---+---+---+---+\nprofit = 9.0\nviolation = 1.0\n\n+---+---+---+---+\n|   | 0 | 1 | 2 |\n+---+---+---+---+\n| 0 | 0 | 1 | 1 |\n| 1 | x | 0 | x |\n+---+---+---+---+\nprofit = 4.0\nviolation = 0.0\n\n+---+---+---+---+\n|   | 0 | 1 | 2 |\n+---+---+---+---+\n| 0 | 0 | 1 | 0 |\n| 1 | x | 1 | x |\n+---+---+---+---+\nprofit = 8.0\nviolation = 2.0\n\n+---+---+---+---+\n|   | 0 | 1 | 2 |\n+---+---+---+---+\n| 0 | 0 | 1 | 0 |\n| 1 | x | 0 | x |\n+---+---+---+---+\nprofit = 3.0\nviolation = 0.0\n\n+---+---+---+---+\n|   | 0 | 1 | 2 |\n+---+---+---+---+\n| 0 | 0 | 0 | 1 |\n| 1 | x | 1 | x |\n+---+---+---+---+\nprofit = 6.0\nviolation = 2.0\n\n+---+---+---+---+\n|   | 0 | 1 | 2 |\n+---+---+---+---+\n| 0 | 0 | 0 | 1 |\n| 1 | x | 0 | x |\n+---+---+---+---+\nprofit = 1.0\nviolation = 0.0\n\n+---+---+---+---+\n|   | 0 | 1 | 2 |\n+---+---+---+---+\n| 0 | 0 | 0 | 0 |\n| 1 | x | 1 | x |\n+---+---+---+---+\nprofit = 5.0\nviolation = 3.0\n\n+---+---+---+---+\n|   | 0 | 1 | 2 |\n+---+---+---+---+\n| 0 | 0 | 0 | 0 |\n| 1 | x | 0 | x |\n+---+---+---+---+\nprofit = 0\nviolation = 0.0\n\n"
     ]
    }
   ],
   "source": [
    "for bitstring in config:\n",
    "    qmine.plot_mine_state(bitstring)\n",
    "    print(f\"profit = {qmine.get_profit(bitstring)}\")\n",
    "    print(f\"violation = {qmine.get_violation(bitstring)}\")\n",
    "    print()"
   ]
  }
 ]
}