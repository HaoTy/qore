{
 "metadata": {
  "language_info": {
   "codemirror_mode": {
    "name": "ipython",
    "version": 3
   },
   "file_extension": ".py",
   "mimetype": "text/x-python",
   "name": "python",
   "nbconvert_exporter": "python",
   "pygments_lexer": "ipython3",
   "version": "3.6.6-final"
  },
  "orig_nbformat": 2,
  "kernelspec": {
   "name": "python3",
   "display_name": "Python 3",
   "language": "python"
  }
 },
 "nbformat": 4,
 "nbformat_minor": 2,
 "cells": [
  {
   "cell_type": "code",
   "execution_count": 1,
   "metadata": {},
   "outputs": [],
   "source": [
    "from qore import Mine"
   ]
  },
  {
   "cell_type": "code",
   "execution_count": 2,
   "metadata": {},
   "outputs": [],
   "source": [
    "qmine = Mine('mine_config.txt')"
   ]
  },
  {
   "cell_type": "code",
   "execution_count": 3,
   "metadata": {},
   "outputs": [
    {
     "output_type": "stream",
     "name": "stdout",
     "text": [
      "+---+--------+-------+-------+\n|   |   0    |   1   |   2   |\n+---+--------+-------+-------+\n| 0 | -2.000 | 3.000 | 1.000 |\n| 1 |  inf   | 5.000 |  inf  |\n+---+--------+-------+-------+\n"
     ]
    }
   ],
   "source": [
    "qmine.plot_mine()"
   ]
  },
  {
   "cell_type": "code",
   "execution_count": 4,
   "metadata": {},
   "outputs": [
    {
     "output_type": "execute_result",
     "data": {
      "text/plain": [
       "defaultdict(list, {3: [0, 1, 2], 0: [], 1: [], 2: []})"
      ]
     },
     "metadata": {},
     "execution_count": 4
    }
   ],
   "source": [
    "qmine.graph"
   ]
  },
  {
   "cell_type": "code",
   "execution_count": 5,
   "metadata": {},
   "outputs": [
    {
     "output_type": "execute_result",
     "data": {
      "text/plain": [
       "[(0, 0), (0, 1), (0, 2), (1, 1)]"
      ]
     },
     "metadata": {},
     "execution_count": 5
    }
   ],
   "source": [
    "qmine.idx2cord"
   ]
  },
  {
   "cell_type": "code",
   "execution_count": 6,
   "metadata": {},
   "outputs": [
    {
     "output_type": "execute_result",
     "data": {
      "text/plain": [
       "{(0, 0): 0, (0, 1): 1, (0, 2): 2, (1, 1): 3}"
      ]
     },
     "metadata": {},
     "execution_count": 6
    }
   ],
   "source": [
    "qmine.cord2idx"
   ]
  },
  {
   "cell_type": "code",
   "execution_count": 9,
   "metadata": {},
   "outputs": [
    {
     "output_type": "stream",
     "name": "stdout",
     "text": [
      "Representation: paulis, qubits: 4, size: 8\n"
     ]
    }
   ],
   "source": [
    "print(qmine.gen_Hamiltonian(15.0))"
   ]
  }
 ]
}