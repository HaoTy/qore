{
 "metadata": {
  "language_info": {
   "codemirror_mode": {
    "name": "ipython",
    "version": 3
   },
   "file_extension": ".py",
   "mimetype": "text/x-python",
   "name": "python",
   "nbconvert_exporter": "python",
   "pygments_lexer": "ipython3",
   "version": "3.9.1"
  },
  "orig_nbformat": 2,
  "kernelspec": {
   "name": "python3",
   "display_name": "Python 3.9.1 64-bit ('qiskit': conda)",
   "metadata": {
    "interpreter": {
     "hash": "1c98fc4fe92390271d15ae28cc783178c5efb4069f3af669a34a587febea39ec"
    }
   }
  }
 },
 "nbformat": 4,
 "nbformat_minor": 2,
 "cells": [
  {
   "cell_type": "code",
   "execution_count": 1,
   "metadata": {},
   "outputs": [],
   "source": [
    "# useful additional packages\n",
    "import matplotlib.pyplot as plt\n",
    "import matplotlib.axes as axes\n",
    "%matplotlib inline\n",
    "import numpy as np\n",
    "import networkx as nx\n",
    "\n",
    "from qiskit import Aer\n",
    "from qiskit.tools.visualization import plot_histogram\n",
    "from qiskit.circuit.library import TwoLocal\n",
    "from qiskit.optimization.applications.ising import max_cut, tsp\n",
    "from qiskit.aqua.algorithms import VQE, NumPyMinimumEigensolver\n",
    "from qiskit.aqua.components.optimizers import SPSA\n",
    "from qiskit.aqua import aqua_globals\n",
    "from qiskit.aqua import QuantumInstance\n",
    "from qiskit.optimization.applications.ising.common import sample_most_likely\n",
    "from qiskit.optimization.algorithms import MinimumEigenOptimizer\n",
    "from qiskit.optimization.problems import QuadraticProgram\n",
    "\n",
    "# setup aqua logging\n",
    "import logging\n",
    "from qiskit.aqua import set_qiskit_aqua_logging\n",
    "# set_qiskit_aqua_logging(logging.DEBUG)  # choose INFO, DEBUG to see the log"
   ]
  },
  {
   "cell_type": "code",
   "execution_count": 2,
   "metadata": {},
   "outputs": [
    {
     "output_type": "display_data",
     "data": {
      "text/plain": "<Figure size 432x288 with 1 Axes>",
      "image/svg+xml": "<?xml version=\"1.0\" encoding=\"utf-8\" standalone=\"no\"?>\n<!DOCTYPE svg PUBLIC \"-//W3C//DTD SVG 1.1//EN\"\n  \"http://www.w3.org/Graphics/SVG/1.1/DTD/svg11.dtd\">\n<!-- Created with matplotlib (https://matplotlib.org/) -->\n<svg height=\"231.84pt\" version=\"1.1\" viewBox=\"0 0 349.2 231.84\" width=\"349.2pt\" xmlns=\"http://www.w3.org/2000/svg\" xmlns:xlink=\"http://www.w3.org/1999/xlink\">\n <metadata>\n  <rdf:RDF xmlns:cc=\"http://creativecommons.org/ns#\" xmlns:dc=\"http://purl.org/dc/elements/1.1/\" xmlns:rdf=\"http://www.w3.org/1999/02/22-rdf-syntax-ns#\">\n   <cc:Work>\n    <dc:type rdf:resource=\"http://purl.org/dc/dcmitype/StillImage\"/>\n    <dc:date>2021-03-18T13:23:56.643309</dc:date>\n    <dc:format>image/svg+xml</dc:format>\n    <dc:creator>\n     <cc:Agent>\n      <dc:title>Matplotlib v3.3.4, https://matplotlib.org/</dc:title>\n     </cc:Agent>\n    </dc:creator>\n   </cc:Work>\n  </rdf:RDF>\n </metadata>\n <defs>\n  <style type=\"text/css\">*{stroke-linecap:butt;stroke-linejoin:round;}</style>\n </defs>\n <g id=\"figure_1\">\n  <g id=\"patch_1\">\n   <path d=\"M 0 231.84 \nL 349.2 231.84 \nL 349.2 0 \nL 0 0 \nz\n\" style=\"fill:none;\"/>\n  </g>\n  <g id=\"axes_1\">\n   <g id=\"patch_2\">\n    <path d=\"M 7.2 224.64 \nL 342 224.64 \nL 342 7.2 \nL 7.2 7.2 \nz\n\" style=\"fill:#ffffff;\"/>\n   </g>\n   <g id=\"LineCollection_1\">\n    <path clip-path=\"url(#p85b2788628)\" d=\"M 326.781818 138.298188 \nL 22.418182 214.756364 \n\" style=\"fill:none;stroke:#000000;stroke-opacity:0.8;\"/>\n    <path clip-path=\"url(#p85b2788628)\" d=\"M 326.781818 138.298188 \nL 151.168155 136.522062 \n\" style=\"fill:none;stroke:#000000;stroke-opacity:0.8;\"/>\n    <path clip-path=\"url(#p85b2788628)\" d=\"M 326.781818 138.298188 \nL 302.218244 17.083636 \n\" style=\"fill:none;stroke:#000000;stroke-opacity:0.8;\"/>\n    <path clip-path=\"url(#p85b2788628)\" d=\"M 22.418182 214.756364 \nL 151.168155 136.522062 \n\" style=\"fill:none;stroke:#000000;stroke-opacity:0.8;\"/>\n    <path clip-path=\"url(#p85b2788628)\" d=\"M 151.168155 136.522062 \nL 302.218244 17.083636 \n\" style=\"fill:none;stroke:#000000;stroke-opacity:0.8;\"/>\n   </g>\n   <g id=\"text_1\">\n    <g id=\"patch_3\">\n     <path clip-path=\"url(#p85b2788628)\" d=\"M 168.797931 186.067414 \nL 184.221839 182.192826 \nQ 187.131439 181.461915 186.400528 178.552315 \nL 184.042579 169.165826 \nQ 183.311669 166.256227 180.402069 166.987137 \nL 164.978161 170.861726 \nQ 162.068561 171.592637 162.799472 174.502236 \nL 165.157421 183.888726 \nQ 165.888331 186.798325 168.797931 186.067414 \nz\n\" style=\"fill:#ffffff;stroke:#ffffff;stroke-linejoin:miter;\"/>\n    </g>\n    <g clip-path=\"url(#p85b2788628)\">\n     <!-- 1.0 -->\n     <g transform=\"translate(167.560332 181.140796)rotate(-14.101295)scale(0.1 -0.1)\">\n      <defs>\n       <path d=\"M 12.40625 8.296875 \nL 28.515625 8.296875 \nL 28.515625 63.921875 \nL 10.984375 60.40625 \nL 10.984375 69.390625 \nL 28.421875 72.90625 \nL 38.28125 72.90625 \nL 38.28125 8.296875 \nL 54.390625 8.296875 \nL 54.390625 0 \nL 12.40625 0 \nz\n\" id=\"DejaVuSans-49\"/>\n       <path d=\"M 10.6875 12.40625 \nL 21 12.40625 \nL 21 0 \nL 10.6875 0 \nz\n\" id=\"DejaVuSans-46\"/>\n       <path d=\"M 31.78125 66.40625 \nQ 24.171875 66.40625 20.328125 58.90625 \nQ 16.5 51.421875 16.5 36.375 \nQ 16.5 21.390625 20.328125 13.890625 \nQ 24.171875 6.390625 31.78125 6.390625 \nQ 39.453125 6.390625 43.28125 13.890625 \nQ 47.125 21.390625 47.125 36.375 \nQ 47.125 51.421875 43.28125 58.90625 \nQ 39.453125 66.40625 31.78125 66.40625 \nz\nM 31.78125 74.21875 \nQ 44.046875 74.21875 50.515625 64.515625 \nQ 56.984375 54.828125 56.984375 36.375 \nQ 56.984375 17.96875 50.515625 8.265625 \nQ 44.046875 -1.421875 31.78125 -1.421875 \nQ 19.53125 -1.421875 13.0625 8.265625 \nQ 6.59375 17.96875 6.59375 36.375 \nQ 6.59375 54.828125 13.0625 64.515625 \nQ 19.53125 74.21875 31.78125 74.21875 \nz\n\" id=\"DejaVuSans-48\"/>\n      </defs>\n      <use xlink:href=\"#DejaVuSans-49\"/>\n      <use x=\"63.623047\" xlink:href=\"#DejaVuSans-46\"/>\n      <use x=\"95.410156\" xlink:href=\"#DejaVuSans-48\"/>\n     </g>\n    </g>\n   </g>\n   <g id=\"text_2\">\n    <g id=\"patch_4\">\n     <path clip-path=\"url(#p85b2788628)\" d=\"M 230.944552 145.16837 \nL 246.846863 145.329203 \nQ 249.84671 145.359543 249.87705 142.359697 \nL 249.974928 132.682067 \nQ 250.005268 129.68222 247.005421 129.65188 \nL 231.103109 129.491047 \nQ 228.103263 129.460707 228.072923 132.460554 \nL 227.975045 142.138184 \nQ 227.944705 145.13803 230.944552 145.16837 \nz\n\" style=\"fill:#ffffff;stroke:#ffffff;stroke-linejoin:miter;\"/>\n    </g>\n    <g clip-path=\"url(#p85b2788628)\">\n     <!-- 1.0 -->\n     <g transform=\"translate(230.995924 140.088942)rotate(-359.42054)scale(0.1 -0.1)\">\n      <use xlink:href=\"#DejaVuSans-49\"/>\n      <use x=\"63.623047\" xlink:href=\"#DejaVuSans-46\"/>\n      <use x=\"95.410156\" xlink:href=\"#DejaVuSans-48\"/>\n     </g>\n    </g>\n   </g>\n   <g id=\"text_3\">\n    <g id=\"patch_5\">\n     <path clip-path=\"url(#p85b2788628)\" d=\"M 305.237883 71.454658 \nL 308.396379 87.040975 \nQ 308.992205 89.981212 311.932441 89.385387 \nL 321.417767 87.463229 \nQ 324.358004 86.867403 323.762179 83.927166 \nL 320.603683 68.340849 \nQ 320.007857 65.400612 317.067621 65.996438 \nL 307.582294 67.918596 \nQ 304.642058 68.514421 305.237883 71.454658 \nz\n\" style=\"fill:#ffffff;stroke:#ffffff;stroke-linejoin:miter;\"/>\n    </g>\n    <g clip-path=\"url(#p85b2788628)\">\n     <!-- 1.0 -->\n     <g transform=\"translate(310.216378 70.445789)rotate(-281.4556)scale(0.1 -0.1)\">\n      <use xlink:href=\"#DejaVuSans-49\"/>\n      <use x=\"63.623047\" xlink:href=\"#DejaVuSans-46\"/>\n      <use x=\"95.410156\" xlink:href=\"#DejaVuSans-48\"/>\n     </g>\n    </g>\n   </g>\n   <g id=\"text_4\">\n    <g id=\"patch_6\">\n     <path clip-path=\"url(#p85b2788628)\" d=\"M 84.068547 186.467633 \nL 97.65931 178.209271 \nQ 100.223101 176.651396 98.665226 174.087605 \nL 93.639456 165.816708 \nQ 92.08158 163.252917 89.517789 164.810792 \nL 75.927026 173.069154 \nQ 73.363235 174.62703 74.92111 177.190821 \nL 79.946881 185.461717 \nQ 81.504756 188.025509 84.068547 186.467633 \nz\n\" style=\"fill:#ffffff;stroke:#ffffff;stroke-linejoin:miter;\"/>\n    </g>\n    <g clip-path=\"url(#p85b2788628)\">\n     <!-- 1.0 -->\n     <g transform=\"translate(81.430707 182.126547)rotate(-31.284757)scale(0.1 -0.1)\">\n      <use xlink:href=\"#DejaVuSans-49\"/>\n      <use x=\"63.623047\" xlink:href=\"#DejaVuSans-46\"/>\n      <use x=\"95.410156\" xlink:href=\"#DejaVuSans-48\"/>\n     </g>\n    </g>\n   </g>\n   <g id=\"text_5\">\n    <g id=\"patch_7\">\n     <path clip-path=\"url(#p85b2788628)\" d=\"M 225.318092 87.883794 \nL 237.792611 78.019933 \nQ 240.145832 76.159193 238.285092 73.805973 \nL 232.282267 66.214385 \nQ 230.421527 63.861165 228.068306 65.721905 \nL 215.593787 75.585765 \nQ 213.240566 77.446505 215.101306 79.799726 \nL 221.104131 87.391313 \nQ 222.964871 89.744534 225.318092 87.883794 \nz\n\" style=\"fill:#ffffff;stroke:#ffffff;stroke-linejoin:miter;\"/>\n    </g>\n    <g clip-path=\"url(#p85b2788628)\">\n     <!-- 1.0 -->\n     <g transform=\"translate(222.167432 83.899252)rotate(-38.33415)scale(0.1 -0.1)\">\n      <use xlink:href=\"#DejaVuSans-49\"/>\n      <use x=\"63.623047\" xlink:href=\"#DejaVuSans-46\"/>\n      <use x=\"95.410156\" xlink:href=\"#DejaVuSans-48\"/>\n     </g>\n    </g>\n   </g>\n   <g id=\"matplotlib.axis_1\">\n    <g id=\"xtick_1\"/>\n    <g id=\"xtick_2\"/>\n    <g id=\"xtick_3\"/>\n    <g id=\"xtick_4\"/>\n    <g id=\"xtick_5\"/>\n    <g id=\"xtick_6\"/>\n    <g id=\"xtick_7\"/>\n   </g>\n   <g id=\"matplotlib.axis_2\">\n    <g id=\"ytick_1\"/>\n    <g id=\"ytick_2\"/>\n    <g id=\"ytick_3\"/>\n    <g id=\"ytick_4\"/>\n    <g id=\"ytick_5\"/>\n    <g id=\"ytick_6\"/>\n    <g id=\"ytick_7\"/>\n    <g id=\"ytick_8\"/>\n   </g>\n   <g id=\"PathCollection_1\">\n    <defs>\n     <path d=\"M 0 12.247449 \nC 3.248061 12.247449 6.363528 10.95698 8.660254 8.660254 \nC 10.95698 6.363528 12.247449 3.248061 12.247449 -0 \nC 12.247449 -3.248061 10.95698 -6.363528 8.660254 -8.660254 \nC 6.363528 -10.95698 3.248061 -12.247449 0 -12.247449 \nC -3.248061 -12.247449 -6.363528 -10.95698 -8.660254 -8.660254 \nC -10.95698 -6.363528 -12.247449 -3.248061 -12.247449 0 \nC -12.247449 3.248061 -10.95698 6.363528 -8.660254 8.660254 \nC -6.363528 10.95698 -3.248061 12.247449 0 12.247449 \nz\n\" id=\"C0_0_e580d9cdc8\"/>\n    </defs>\n    <g clip-path=\"url(#p85b2788628)\">\n     <use style=\"fill:#ff0000;fill-opacity:0.8;stroke:#ff0000;stroke-opacity:0.8;\" x=\"326.781818\" xlink:href=\"#C0_0_e580d9cdc8\" y=\"138.298188\"/>\n    </g>\n    <g clip-path=\"url(#p85b2788628)\">\n     <use style=\"fill:#ff0000;fill-opacity:0.8;stroke:#ff0000;stroke-opacity:0.8;\" x=\"22.418182\" xlink:href=\"#C0_0_e580d9cdc8\" y=\"214.756364\"/>\n    </g>\n    <g clip-path=\"url(#p85b2788628)\">\n     <use style=\"fill:#ff0000;fill-opacity:0.8;stroke:#ff0000;stroke-opacity:0.8;\" x=\"151.168155\" xlink:href=\"#C0_0_e580d9cdc8\" y=\"136.522062\"/>\n    </g>\n    <g clip-path=\"url(#p85b2788628)\">\n     <use style=\"fill:#ff0000;fill-opacity:0.8;stroke:#ff0000;stroke-opacity:0.8;\" x=\"302.218244\" xlink:href=\"#C0_0_e580d9cdc8\" y=\"17.083636\"/>\n    </g>\n   </g>\n   <g id=\"patch_8\">\n    <path d=\"M 7.2 224.64 \nL 7.2 7.2 \n\" style=\"fill:none;stroke:#000000;stroke-linecap:square;stroke-linejoin:miter;stroke-width:0.8;\"/>\n   </g>\n   <g id=\"patch_9\">\n    <path d=\"M 342 224.64 \nL 342 7.2 \n\" style=\"fill:none;stroke:#000000;stroke-linecap:square;stroke-linejoin:miter;stroke-width:0.8;\"/>\n   </g>\n   <g id=\"patch_10\">\n    <path d=\"M 7.2 224.64 \nL 342 224.64 \n\" style=\"fill:none;stroke:#000000;stroke-linecap:square;stroke-linejoin:miter;stroke-width:0.8;\"/>\n   </g>\n   <g id=\"patch_11\">\n    <path d=\"M 7.2 7.2 \nL 342 7.2 \n\" style=\"fill:none;stroke:#000000;stroke-linecap:square;stroke-linejoin:miter;stroke-width:0.8;\"/>\n   </g>\n   <g id=\"text_6\">\n    <g clip-path=\"url(#p85b2788628)\">\n     <!-- 0 -->\n     <g style=\"opacity:0.8;\" transform=\"translate(322.964318 141.609438)scale(0.12 -0.12)\">\n      <use xlink:href=\"#DejaVuSans-48\"/>\n     </g>\n    </g>\n   </g>\n   <g id=\"text_7\">\n    <g clip-path=\"url(#p85b2788628)\">\n     <!-- 1 -->\n     <g style=\"opacity:0.8;\" transform=\"translate(18.600682 218.067614)scale(0.12 -0.12)\">\n      <use xlink:href=\"#DejaVuSans-49\"/>\n     </g>\n    </g>\n   </g>\n   <g id=\"text_8\">\n    <g clip-path=\"url(#p85b2788628)\">\n     <!-- 2 -->\n     <g style=\"opacity:0.8;\" transform=\"translate(147.350655 139.833312)scale(0.12 -0.12)\">\n      <defs>\n       <path d=\"M 19.1875 8.296875 \nL 53.609375 8.296875 \nL 53.609375 0 \nL 7.328125 0 \nL 7.328125 8.296875 \nQ 12.9375 14.109375 22.625 23.890625 \nQ 32.328125 33.6875 34.8125 36.53125 \nQ 39.546875 41.84375 41.421875 45.53125 \nQ 43.3125 49.21875 43.3125 52.78125 \nQ 43.3125 58.59375 39.234375 62.25 \nQ 35.15625 65.921875 28.609375 65.921875 \nQ 23.96875 65.921875 18.8125 64.3125 \nQ 13.671875 62.703125 7.8125 59.421875 \nL 7.8125 69.390625 \nQ 13.765625 71.78125 18.9375 73 \nQ 24.125 74.21875 28.421875 74.21875 \nQ 39.75 74.21875 46.484375 68.546875 \nQ 53.21875 62.890625 53.21875 53.421875 \nQ 53.21875 48.921875 51.53125 44.890625 \nQ 49.859375 40.875 45.40625 35.40625 \nQ 44.1875 33.984375 37.640625 27.21875 \nQ 31.109375 20.453125 19.1875 8.296875 \nz\n\" id=\"DejaVuSans-50\"/>\n      </defs>\n      <use xlink:href=\"#DejaVuSans-50\"/>\n     </g>\n    </g>\n   </g>\n   <g id=\"text_9\">\n    <g clip-path=\"url(#p85b2788628)\">\n     <!-- 3 -->\n     <g style=\"opacity:0.8;\" transform=\"translate(298.400744 20.394886)scale(0.12 -0.12)\">\n      <defs>\n       <path d=\"M 40.578125 39.3125 \nQ 47.65625 37.796875 51.625 33 \nQ 55.609375 28.21875 55.609375 21.1875 \nQ 55.609375 10.40625 48.1875 4.484375 \nQ 40.765625 -1.421875 27.09375 -1.421875 \nQ 22.515625 -1.421875 17.65625 -0.515625 \nQ 12.796875 0.390625 7.625 2.203125 \nL 7.625 11.71875 \nQ 11.71875 9.328125 16.59375 8.109375 \nQ 21.484375 6.890625 26.8125 6.890625 \nQ 36.078125 6.890625 40.9375 10.546875 \nQ 45.796875 14.203125 45.796875 21.1875 \nQ 45.796875 27.640625 41.28125 31.265625 \nQ 36.765625 34.90625 28.71875 34.90625 \nL 20.21875 34.90625 \nL 20.21875 43.015625 \nL 29.109375 43.015625 \nQ 36.375 43.015625 40.234375 45.921875 \nQ 44.09375 48.828125 44.09375 54.296875 \nQ 44.09375 59.90625 40.109375 62.90625 \nQ 36.140625 65.921875 28.71875 65.921875 \nQ 24.65625 65.921875 20.015625 65.03125 \nQ 15.375 64.15625 9.8125 62.3125 \nL 9.8125 71.09375 \nQ 15.4375 72.65625 20.34375 73.4375 \nQ 25.25 74.21875 29.59375 74.21875 \nQ 40.828125 74.21875 47.359375 69.109375 \nQ 53.90625 64.015625 53.90625 55.328125 \nQ 53.90625 49.265625 50.4375 45.09375 \nQ 46.96875 40.921875 40.578125 39.3125 \nz\n\" id=\"DejaVuSans-51\"/>\n      </defs>\n      <use xlink:href=\"#DejaVuSans-51\"/>\n     </g>\n    </g>\n   </g>\n  </g>\n </g>\n <defs>\n  <clipPath id=\"p85b2788628\">\n   <rect height=\"217.44\" width=\"334.8\" x=\"7.2\" y=\"7.2\"/>\n  </clipPath>\n </defs>\n</svg>\n",
      "image/png": "[encoded data removed]"
     },
     "metadata": {}
    }
   ],
   "source": [
    "# Generating a graph of 4 nodes\n",
    "\n",
    "n=4 # Number of nodes in graph\n",
    "G=nx.Graph()\n",
    "G.add_nodes_from(np.arange(0,n,1))\n",
    "elist=[(0,1,1.0),(0,2,1.0),(0,3,1.0),(1,2,1.0),(2,3,1.0)]\n",
    "# tuple is (i,j,weight) where (i,j) is the edge\n",
    "G.add_weighted_edges_from(elist)\n",
    "\n",
    "colors = ['r' for node in G.nodes()]\n",
    "pos = nx.spring_layout(G)\n",
    "\n",
    "def draw_graph(G, colors, pos):\n",
    "    default_axes = plt.axes(frameon=True)\n",
    "    nx.draw_networkx(G, node_color=colors, node_size=600, alpha=.8, ax=default_axes, pos=pos)\n",
    "    edge_labels = nx.get_edge_attributes(G, 'weight')\n",
    "    nx.draw_networkx_edge_labels(G, pos=pos, edge_labels=edge_labels)\n",
    "\n",
    "draw_graph(G, colors, pos)"
   ]
  },
  {
   "cell_type": "code",
   "execution_count": 3,
   "metadata": {},
   "outputs": [
    {
     "output_type": "stream",
     "name": "stdout",
     "text": [
      "[[0. 1. 1. 1.]\n [1. 0. 1. 0.]\n [1. 1. 0. 1.]\n [1. 0. 1. 0.]]\n"
     ]
    }
   ],
   "source": [
    "# Computing the weight matrix from the random graph\n",
    "w = np.zeros([n,n])\n",
    "for i in range(n):\n",
    "    for j in range(n):\n",
    "        temp = G.get_edge_data(i,j,default=0)\n",
    "        if temp != 0:\n",
    "            w[i,j] = temp['weight']\n",
    "print(w)\n"
   ]
  },
  {
   "cell_type": "code",
   "execution_count": 4,
   "metadata": {},
   "outputs": [
    {
     "output_type": "stream",
     "name": "stdout",
     "text": [
      "Offset: -2.5\nIsing Hamiltonian:\nIIZZ\t(0.5+0j)\nIZIZ\t(0.5+0j)\nIZZI\t(0.5+0j)\nZIIZ\t(0.5+0j)\nZZII\t(0.5+0j)\n\n"
     ]
    }
   ],
   "source": [
    "qubitOp, offset = max_cut.get_operator(w)\n",
    "print('Offset:', offset)\n",
    "print('Ising Hamiltonian:')\n",
    "print(qubitOp.print_details())\n"
   ]
  },
  {
   "cell_type": "code",
   "execution_count": null,
   "metadata": {},
   "outputs": [],
   "source": []
  },
  {
   "cell_type": "code",
   "execution_count": null,
   "metadata": {},
   "outputs": [],
   "source": []
  },
  {
   "cell_type": "code",
   "execution_count": null,
   "metadata": {},
   "outputs": [],
   "source": []
  },
  {
   "cell_type": "code",
   "execution_count": 5,
   "metadata": {},
   "outputs": [
    {
     "output_type": "stream",
     "name": "stdout",
     "text": [
      "// This file has been generated by DOcplex\n// model name is: AnonymousModel\n// single vars section\ndvar bool x_0;\ndvar bool x_1;\ndvar bool x_2;\ndvar bool x_3;\n\nminimize\n [ - 3 x_0^2 + 2 x_0*x_1 + 2 x_0*x_2 + 2 x_0*x_3 - 2 x_1^2 + 2 x_1*x_2\n - 3 x_2^2 + 2 x_2*x_3 - 2 x_3^2 ];\n \nsubject to {\n\n}\n"
     ]
    }
   ],
   "source": [
    "# mapping Ising Hamiltonian to Quadratic Program\n",
    "qp = QuadraticProgram()\n",
    "qp.from_ising(qubitOp, offset)\n",
    "qp.to_docplex().prettyprint()"
   ]
  },
  {
   "cell_type": "code",
   "execution_count": null,
   "metadata": {},
   "outputs": [],
   "source": []
  }
 ]
}