{
 "metadata": {
  "language_info": {
   "codemirror_mode": {
    "name": "ipython",
    "version": 3
   },
   "file_extension": ".py",
   "mimetype": "text/x-python",
   "name": "python",
   "nbconvert_exporter": "python",
   "pygments_lexer": "ipython3",
   "version": "3.9.1"
  },
  "orig_nbformat": 2,
  "kernelspec": {
   "name": "python391jvsc74a57bd01c98fc4fe92390271d15ae28cc783178c5efb4069f3af669a34a587febea39ec",
   "display_name": "Python 3.9.1 64-bit ('qiskit': conda)"
  }
 },
 "nbformat": 4,
 "nbformat_minor": 2,
 "cells": [
  {
   "cell_type": "code",
   "execution_count": 1,
   "metadata": {},
   "outputs": [],
   "source": [
    "import numpy as np\n",
    "from qiskit.opflow import PauliOp, I, Z, Plus, MatrixOp\n",
    "\n",
    "from qore import Mine, ASP, QAOA, VQE, Pseudoflow\n",
    "#from qore import ASPSolver, QAOASolver, PseudoflowSolver\n",
    "\n",
    "from qore.utils import get_bitstring_probabilities"
   ]
  },
  {
   "cell_type": "code",
   "execution_count": 2,
   "metadata": {},
   "outputs": [],
   "source": [
    "# qmine = Mine('mine_config.txt')\n",
    "\n",
    "# penalty = 20.0\n",
    "# qmine = Mine(np.array([[-2., 3., 1., -1.], [float('inf'), 5., 3., float('inf')]]))\n",
    "\n",
    "# penalty = 5.0\n",
    "# qmine = Mine(np.array([[-2.0, 3.0, -1.0, -2.0, -1.0], [float('inf'), 5.0, 3.0, 10.0, float('inf')], [float('inf'), float('inf'), 4.0, float('inf'), float('inf')]]))\n",
    "\n",
    "qmine = Mine(np.array([[-2.0, 3.0, -1.0, -2.0, -1.0], [float('inf'), 1.0, -5.0, 10.0, float('inf')], [float('inf'), float('inf'), 4.0, float('inf'), float('inf')]]))"
   ]
  },
  {
   "cell_type": "code",
   "execution_count": 3,
   "metadata": {},
   "outputs": [
    {
     "output_type": "stream",
     "name": "stdout",
     "text": [
      "+---+--------+-------+--------+--------+--------+\n|   |   0    |   1   |   2    |   3    |   4    |\n+---+--------+-------+--------+--------+--------+\n| 0 | -2.000 | 3.000 | -1.000 | -2.000 | -1.000 |\n| 1 |  inf   | 1.000 | -5.000 | 10.000 |  inf   |\n| 2 |  inf   |  inf  | 4.000  |  inf   |  inf   |\n+---+--------+-------+--------+--------+--------+\n"
     ]
    }
   ],
   "source": [
    "qmine.plot_mine()"
   ]
  },
  {
   "cell_type": "code",
   "execution_count": 4,
   "metadata": {},
   "outputs": [],
   "source": [
    "def analysis(circ, valid_config):\n",
    "    x = get_bitstring_probabilities(circ, algo.quantum_instance)\n",
    "    res = sum([x[k] for k in valid_config])\n",
    "    print(f\"current <P>: {res}\")"
   ]
  },
  {
   "cell_type": "code",
   "execution_count": null,
   "metadata": {},
   "outputs": [],
   "source": []
  }
 ]
}